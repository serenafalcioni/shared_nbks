{
 "cells": [
  {
   "cell_type": "code",
   "execution_count": 1,
   "metadata": {
    "ExecuteTime": {
     "end_time": "2018-02-05T07:23:44.290830Z",
     "start_time": "2018-02-05T07:23:43.466469Z"
    },
    "collapsed": true
   },
   "outputs": [],
   "source": [
    "import matplotlib.pyplot as plt\n",
    "import pandas as pd\n",
    "import numpy as np\n",
    "\n",
    "from bubblekicker.bubblekicker import (BubbleKicker, batchbubblekicker, bubble_properties_calculate, \n",
    "                                       _bubble_properties_filter, bubble_properties_plot)\n",
    "\n",
    "from bubblekicker.pipelines import CannyPipeline, AdaptiveThresholdPipeline"
   ]
  },
  {
   "cell_type": "code",
   "execution_count": 2,
   "metadata": {
    "ExecuteTime": {
     "end_time": "2018-02-05T07:23:45.052637Z",
     "start_time": "2018-02-05T07:23:45.041497Z"
    },
    "collapsed": true
   },
   "outputs": [],
   "source": [
    "%matplotlib inline"
   ]
  },
  {
   "cell_type": "code",
   "execution_count": 3,
   "metadata": {
    "ExecuteTime": {
     "end_time": "2018-02-05T07:23:45.265198Z",
     "start_time": "2018-02-05T07:23:45.259124Z"
    },
    "collapsed": true
   },
   "outputs": [],
   "source": [
    "#path = r'C:\\Users\\Giacomo\\Documents\\gitRepos\\Serena\\shared_nbks/'\n",
    "path = r'/media/giacomo/CE82DCC682DCB3E5/Users/Giacomo/Documents/gitRepos/Serena/shared_nbks/'\n",
    "imgname = 'IMG_0054.JPG'"
   ]
  },
  {
   "cell_type": "markdown",
   "metadata": {},
   "source": [
    "# CANNY PIPELINE"
   ]
  },
  {
   "cell_type": "code",
   "execution_count": 4,
   "metadata": {
    "ExecuteTime": {
     "end_time": "2018-02-05T07:23:49.815583Z",
     "start_time": "2018-02-05T07:23:46.055324Z"
    },
    "collapsed": false,
    "scrolled": false
   },
   "outputs": [
    {
     "name": "stdout",
     "output_type": "stream",
     "text": [
      "Steps undertaken since from raw image:\n",
      "edge-detect with thresholds 120 -> 180 - opencv\n",
      "dilate with footprintsize 3 - opencv\n",
      "fill holes - opencv\n",
      "clear border with buffer size 3 and bgval 1 -  skimage\n",
      "erode with footprintsize 1 - opencv\n",
      "\n",
      "\n"
     ]
    },
    {
     "data": {
      "image/png": "[encoded data removed]",
      "text/plain": [
       "<matplotlib.figure.Figure at 0x7f85b687b190>"
      ]
     },
     "metadata": {},
     "output_type": "display_data"
    }
   ],
   "source": [
    "granulecheck = CannyPipeline(path + imgname, channel='blue')\n",
    "result = granulecheck.run([120, 180], 3, 3, 1, 1)\n",
    "# show the resulting image of the detected bubbles\n",
    "granulecheck.plot()\n",
    "# show the individual steps performed to get this result\n",
    "granulecheck.what_have_i_done()"
   ]
  },
  {
   "cell_type": "markdown",
   "metadata": {},
   "source": [
    "## example filtering with standard values"
   ]
  },
  {
   "cell_type": "code",
   "execution_count": 5,
   "metadata": {
    "ExecuteTime": {
     "end_time": "2018-02-05T07:24:51.497330Z",
     "start_time": "2018-02-05T07:23:54.231935Z"
    },
    "collapsed": false,
    "scrolled": true
   },
   "outputs": [
    {
     "name": "stdout",
     "output_type": "stream",
     "text": [
      "{'min': 0.92}\n",
      "{'max': 1.6, 'min': 0.2}\n"
     ]
    }
   ],
   "source": [
    "#calculate properties\n",
    "marker_image, props = bubble_properties_calculate(result) "
   ]
  },
  {
   "cell_type": "code",
   "execution_count": 7,
   "metadata": {
    "ExecuteTime": {
     "end_time": "2018-02-05T07:24:53.714115Z",
     "start_time": "2018-02-05T07:24:53.651006Z"
    },
    "collapsed": false
   },
   "outputs": [
    {
     "data": {
      "text/html": [
       "<div>\n",
       "<table border=\"1\" class=\"dataframe\">\n",
       "  <thead>\n",
       "    <tr style=\"text-align: right;\">\n",
       "      <th></th>\n",
       "      <th>area</th>\n",
       "      <th>centroid</th>\n",
       "      <th>convex_area</th>\n",
       "      <th>equivalent_diameter</th>\n",
       "      <th>perimeter</th>\n",
       "      <th>convexity</th>\n",
       "      <th>circularity_reciprocal</th>\n",
       "    </tr>\n",
       "    <tr>\n",
       "      <th>label</th>\n",
       "      <th></th>\n",
       "      <th></th>\n",
       "      <th></th>\n",
       "      <th></th>\n",
       "      <th></th>\n",
       "      <th></th>\n",
       "      <th></th>\n",
       "    </tr>\n",
       "  </thead>\n",
       "  <tbody>\n",
       "    <tr>\n",
       "      <th>4</th>\n",
       "      <td>19</td>\n",
       "      <td>(123.789473684, 2595.47368421)</td>\n",
       "      <td>22</td>\n",
       "      <td>4.918491</td>\n",
       "      <td>15.414214</td>\n",
       "      <td>1.232629</td>\n",
       "      <td>0.995129</td>\n",
       "    </tr>\n",
       "    <tr>\n",
       "      <th>11</th>\n",
       "      <td>8</td>\n",
       "      <td>(140.5, 2951.5)</td>\n",
       "      <td>8</td>\n",
       "      <td>3.191538</td>\n",
       "      <td>8.000000</td>\n",
       "      <td>1.000000</td>\n",
       "      <td>0.636620</td>\n",
       "    </tr>\n",
       "    <tr>\n",
       "      <th>12</th>\n",
       "      <td>12</td>\n",
       "      <td>(150.166666667, 2652.0)</td>\n",
       "      <td>14</td>\n",
       "      <td>3.908820</td>\n",
       "      <td>9.414214</td>\n",
       "      <td>1.274668</td>\n",
       "      <td>0.587729</td>\n",
       "    </tr>\n",
       "    <tr>\n",
       "      <th>13</th>\n",
       "      <td>7</td>\n",
       "      <td>(151.714285714, 2782.28571429)</td>\n",
       "      <td>9</td>\n",
       "      <td>2.985411</td>\n",
       "      <td>6.207107</td>\n",
       "      <td>1.127740</td>\n",
       "      <td>0.437996</td>\n",
       "    </tr>\n",
       "    <tr>\n",
       "      <th>14</th>\n",
       "      <td>14</td>\n",
       "      <td>(156.071428571, 2566.57142857)</td>\n",
       "      <td>18</td>\n",
       "      <td>4.222008</td>\n",
       "      <td>12.828427</td>\n",
       "      <td>1.091326</td>\n",
       "      <td>0.935425</td>\n",
       "    </tr>\n",
       "  </tbody>\n",
       "</table>\n",
       "</div>"
      ],
      "text/plain": [
       "       area                        centroid  convex_area  equivalent_diameter  \\\n",
       "label                                                                           \n",
       "4        19  (123.789473684, 2595.47368421)           22             4.918491   \n",
       "11        8                 (140.5, 2951.5)            8             3.191538   \n",
       "12       12         (150.166666667, 2652.0)           14             3.908820   \n",
       "13        7  (151.714285714, 2782.28571429)            9             2.985411   \n",
       "14       14  (156.071428571, 2566.57142857)           18             4.222008   \n",
       "\n",
       "       perimeter  convexity  circularity_reciprocal  \n",
       "label                                                \n",
       "4      15.414214   1.232629                0.995129  \n",
       "11      8.000000   1.000000                0.636620  \n",
       "12      9.414214   1.274668                0.587729  \n",
       "13      6.207107   1.127740                0.437996  \n",
       "14     12.828427   1.091326                0.935425  "
      ]
     },
     "execution_count": 7,
     "metadata": {},
     "output_type": "execute_result"
    }
   ],
   "source": [
    "props.head()"
   ]
  },
  {
   "cell_type": "code",
   "execution_count": 8,
   "metadata": {
    "ExecuteTime": {
     "end_time": "2018-02-05T07:24:57.160440Z",
     "start_time": "2018-02-05T07:24:54.418106Z"
    },
    "collapsed": false
   },
   "outputs": [
    {
     "data": {
      "text/plain": [
       "<matplotlib.image.AxesImage at 0x7f85b66e3310>"
      ]
     },
     "execution_count": 8,
     "metadata": {},
     "output_type": "execute_result"
    },
    {
     "data": {
      "image/png": "[encoded data removed]",
      "text/plain": [
       "<matplotlib.figure.Figure at 0x7f85b67bca50>"
      ]
     },
     "metadata": {},
     "output_type": "display_data"
    }
   ],
   "source": [
    "plt.imshow(marker_image)"
   ]
  },
  {
   "cell_type": "markdown",
   "metadata": {},
   "source": [
    "## example filtering with custom values"
   ]
  },
  {
   "cell_type": "markdown",
   "metadata": {},
   "source": [
    "<b> Changing the 'Circularity reciprocal' max value from 1.2 to 1.5 you can consider more circular particles and also the big ones are falling in"
   ]
  },
  {
   "cell_type": "code",
   "execution_count": 9,
   "metadata": {
    "ExecuteTime": {
     "end_time": "2018-02-05T07:25:53.098854Z",
     "start_time": "2018-02-05T07:25:00.165919Z"
    },
    "collapsed": false
   },
   "outputs": [
    {
     "name": "stdout",
     "output_type": "stream",
     "text": [
      "{'max': 1.5, 'min': 0.3}\n",
      "{'min': 0.0}\n"
     ]
    }
   ],
   "source": [
    "#calculate properties\n",
    "marker_image, props = bubble_properties_calculate(result, \n",
    "                                                  rules={'convexity':{'min':0.}, \n",
    "                                                                 'circularity_reciprocal':{'max':1.5, 'min':0.3}}) "
   ]
  },
  {
   "cell_type": "code",
   "execution_count": 10,
   "metadata": {
    "ExecuteTime": {
     "end_time": "2018-02-05T07:25:53.129758Z",
     "start_time": "2018-02-05T07:25:53.101282Z"
    },
    "collapsed": false
   },
   "outputs": [
    {
     "data": {
      "text/html": [
       "<div>\n",
       "<table border=\"1\" class=\"dataframe\">\n",
       "  <thead>\n",
       "    <tr style=\"text-align: right;\">\n",
       "      <th></th>\n",
       "      <th>area</th>\n",
       "      <th>centroid</th>\n",
       "      <th>convex_area</th>\n",
       "      <th>equivalent_diameter</th>\n",
       "      <th>perimeter</th>\n",
       "      <th>convexity</th>\n",
       "      <th>circularity_reciprocal</th>\n",
       "    </tr>\n",
       "    <tr>\n",
       "      <th>label</th>\n",
       "      <th></th>\n",
       "      <th></th>\n",
       "      <th></th>\n",
       "      <th></th>\n",
       "      <th></th>\n",
       "      <th></th>\n",
       "      <th></th>\n",
       "    </tr>\n",
       "  </thead>\n",
       "  <tbody>\n",
       "    <tr>\n",
       "      <th>4</th>\n",
       "      <td>19</td>\n",
       "      <td>(123.789473684, 2595.47368421)</td>\n",
       "      <td>22</td>\n",
       "      <td>4.918491</td>\n",
       "      <td>15.414214</td>\n",
       "      <td>1.232629</td>\n",
       "      <td>0.995129</td>\n",
       "    </tr>\n",
       "    <tr>\n",
       "      <th>6</th>\n",
       "      <td>4</td>\n",
       "      <td>(124.25, 2824.0)</td>\n",
       "      <td>4</td>\n",
       "      <td>2.256758</td>\n",
       "      <td>4.621320</td>\n",
       "      <td>0.865554</td>\n",
       "      <td>0.424876</td>\n",
       "    </tr>\n",
       "    <tr>\n",
       "      <th>11</th>\n",
       "      <td>8</td>\n",
       "      <td>(140.5, 2951.5)</td>\n",
       "      <td>8</td>\n",
       "      <td>3.191538</td>\n",
       "      <td>8.000000</td>\n",
       "      <td>1.000000</td>\n",
       "      <td>0.636620</td>\n",
       "    </tr>\n",
       "    <tr>\n",
       "      <th>12</th>\n",
       "      <td>12</td>\n",
       "      <td>(150.166666667, 2652.0)</td>\n",
       "      <td>14</td>\n",
       "      <td>3.908820</td>\n",
       "      <td>9.414214</td>\n",
       "      <td>1.274668</td>\n",
       "      <td>0.587729</td>\n",
       "    </tr>\n",
       "    <tr>\n",
       "      <th>13</th>\n",
       "      <td>7</td>\n",
       "      <td>(151.714285714, 2782.28571429)</td>\n",
       "      <td>9</td>\n",
       "      <td>2.985411</td>\n",
       "      <td>6.207107</td>\n",
       "      <td>1.127740</td>\n",
       "      <td>0.437996</td>\n",
       "    </tr>\n",
       "  </tbody>\n",
       "</table>\n",
       "</div>"
      ],
      "text/plain": [
       "       area                        centroid  convex_area  equivalent_diameter  \\\n",
       "label                                                                           \n",
       "4        19  (123.789473684, 2595.47368421)           22             4.918491   \n",
       "6         4                (124.25, 2824.0)            4             2.256758   \n",
       "11        8                 (140.5, 2951.5)            8             3.191538   \n",
       "12       12         (150.166666667, 2652.0)           14             3.908820   \n",
       "13        7  (151.714285714, 2782.28571429)            9             2.985411   \n",
       "\n",
       "       perimeter  convexity  circularity_reciprocal  \n",
       "label                                                \n",
       "4      15.414214   1.232629                0.995129  \n",
       "6       4.621320   0.865554                0.424876  \n",
       "11      8.000000   1.000000                0.636620  \n",
       "12      9.414214   1.274668                0.587729  \n",
       "13      6.207107   1.127740                0.437996  "
      ]
     },
     "execution_count": 10,
     "metadata": {},
     "output_type": "execute_result"
    }
   ],
   "source": [
    "props.head()"
   ]
  },
  {
   "cell_type": "code",
   "execution_count": 11,
   "metadata": {
    "ExecuteTime": {
     "end_time": "2018-02-05T07:25:55.351040Z",
     "start_time": "2018-02-05T07:25:53.132828Z"
    },
    "collapsed": false
   },
   "outputs": [
    {
     "data": {
      "text/plain": [
       "<matplotlib.image.AxesImage at 0x7f85b6746450>"
      ]
     },
     "execution_count": 11,
     "metadata": {},
     "output_type": "execute_result"
    },
    {
     "data": {
      "image/png": "[encoded data removed]",
      "text/plain": [
       "<matplotlib.figure.Figure at 0x7f85c7f6a910>"
      ]
     },
     "metadata": {},
     "output_type": "display_data"
    }
   ],
   "source": [
    "plt.imshow(marker_image)"
   ]
  },
  {
   "cell_type": "code",
   "execution_count": 12,
   "metadata": {
    "ExecuteTime": {
     "end_time": "2018-02-05T07:25:55.897648Z",
     "start_time": "2018-02-05T07:25:55.354757Z"
    },
    "collapsed": false
   },
   "outputs": [
    {
     "data": {
      "image/png": "[encoded data removed]",
      "text/plain": [
       "<matplotlib.figure.Figure at 0x7f85b6779b90>"
      ]
     },
     "metadata": {},
     "output_type": "display_data"
    }
   ],
   "source": [
    "fig, axs = bubble_properties_plot(props, \"equivalent_diameter\")  # make a plot"
   ]
  },
  {
   "cell_type": "markdown",
   "metadata": {},
   "source": [
    "# ADAPTIVE THRESHOLD PIPELINE"
   ]
  },
  {
   "cell_type": "code",
   "execution_count": 13,
   "metadata": {
    "ExecuteTime": {
     "end_time": "2018-02-05T07:26:00.432876Z",
     "start_time": "2018-02-05T07:25:55.901634Z"
    },
    "collapsed": false
   },
   "outputs": [
    {
     "name": "stdout",
     "output_type": "stream",
     "text": [
      "Steps undertaken since from raw image:\n",
      "adaptive threshold bubble detection with blocksize 101 and cvalue 10 - opencv\n",
      "dilate with footprintsize 2 - opencv\n",
      "fill holes - opencv\n",
      "clear border with buffer size 3 and bgval 1 -  skimage\n",
      "erode with footprintsize 1 - opencv\n",
      "\n",
      "\n"
     ]
    },
    {
     "data": {
      "image/png": "[encoded data removed]",
      "text/plain": [
       "<matplotlib.figure.Figure at 0x7f85b687b0d0>"
      ]
     },
     "metadata": {},
     "output_type": "display_data"
    }
   ],
   "source": [
    "granulecheck = AdaptiveThresholdPipeline(path + imgname, channel='red')\n",
    "result = granulecheck.run(101, 10, 2, 3, 1, 1)\n",
    "# show the resulting image of the detected granules\n",
    "granulecheck.plot()\n",
    "\n",
    "# show the individual steps performed to get this result\n",
    "granulecheck.what_have_i_done()"
   ]
  },
  {
   "cell_type": "code",
   "execution_count": 14,
   "metadata": {
    "ExecuteTime": {
     "end_time": "2018-02-05T07:33:08.017000Z",
     "start_time": "2018-02-05T07:26:00.442076Z"
    },
    "collapsed": false
   },
   "outputs": [
    {
     "name": "stdout",
     "output_type": "stream",
     "text": [
      "{'max': 1.2, 'min': 0.3}\n",
      "{'min': 0.0}\n"
     ]
    }
   ],
   "source": [
    "#calculate properties\n",
    "marker_image, props = bubble_properties_calculate(result, \n",
    "                                                  rules={'convexity':{'min':0.}, \n",
    "                                                                 'circularity_reciprocal':{'max':1.2, 'min':0.3}}) "
   ]
  },
  {
   "cell_type": "code",
   "execution_count": 19,
   "metadata": {
    "ExecuteTime": {
     "end_time": "2018-02-05T07:34:45.313298Z",
     "start_time": "2018-02-05T07:34:45.228873Z"
    },
    "collapsed": false
   },
   "outputs": [
    {
     "data": {
      "text/html": [
       "<div>\n",
       "<table border=\"1\" class=\"dataframe\">\n",
       "  <thead>\n",
       "    <tr style=\"text-align: right;\">\n",
       "      <th></th>\n",
       "      <th>area</th>\n",
       "      <th>centroid</th>\n",
       "      <th>convex_area</th>\n",
       "      <th>equivalent_diameter</th>\n",
       "      <th>perimeter</th>\n",
       "      <th>convexity</th>\n",
       "      <th>circularity_reciprocal</th>\n",
       "    </tr>\n",
       "    <tr>\n",
       "      <th>label</th>\n",
       "      <th></th>\n",
       "      <th></th>\n",
       "      <th></th>\n",
       "      <th></th>\n",
       "      <th></th>\n",
       "      <th></th>\n",
       "      <th></th>\n",
       "    </tr>\n",
       "  </thead>\n",
       "  <tbody>\n",
       "    <tr>\n",
       "      <th>9</th>\n",
       "      <td>5</td>\n",
       "      <td>(7.6, 2011.8)</td>\n",
       "      <td>5</td>\n",
       "      <td>2.523133</td>\n",
       "      <td>5.207107</td>\n",
       "      <td>0.960226</td>\n",
       "      <td>0.431532</td>\n",
       "    </tr>\n",
       "    <tr>\n",
       "      <th>12</th>\n",
       "      <td>7</td>\n",
       "      <td>(8.28571428571, 3459.28571429)</td>\n",
       "      <td>11</td>\n",
       "      <td>2.985411</td>\n",
       "      <td>6.621320</td>\n",
       "      <td>1.057191</td>\n",
       "      <td>0.498404</td>\n",
       "    </tr>\n",
       "    <tr>\n",
       "      <th>14</th>\n",
       "      <td>7</td>\n",
       "      <td>(8.28571428571, 3481.0)</td>\n",
       "      <td>7</td>\n",
       "      <td>2.985411</td>\n",
       "      <td>6.828427</td>\n",
       "      <td>1.025126</td>\n",
       "      <td>0.530070</td>\n",
       "    </tr>\n",
       "    <tr>\n",
       "      <th>24</th>\n",
       "      <td>8</td>\n",
       "      <td>(9.125, 3488.875)</td>\n",
       "      <td>8</td>\n",
       "      <td>3.191538</td>\n",
       "      <td>7.414214</td>\n",
       "      <td>1.079009</td>\n",
       "      <td>0.546802</td>\n",
       "    </tr>\n",
       "    <tr>\n",
       "      <th>42</th>\n",
       "      <td>3</td>\n",
       "      <td>(12.3333333333, 3479.33333333)</td>\n",
       "      <td>3</td>\n",
       "      <td>1.954410</td>\n",
       "      <td>3.414214</td>\n",
       "      <td>0.878680</td>\n",
       "      <td>0.309208</td>\n",
       "    </tr>\n",
       "  </tbody>\n",
       "</table>\n",
       "</div>"
      ],
      "text/plain": [
       "       area                        centroid  convex_area  equivalent_diameter  \\\n",
       "label                                                                           \n",
       "9         5                   (7.6, 2011.8)            5             2.523133   \n",
       "12        7  (8.28571428571, 3459.28571429)           11             2.985411   \n",
       "14        7         (8.28571428571, 3481.0)            7             2.985411   \n",
       "24        8               (9.125, 3488.875)            8             3.191538   \n",
       "42        3  (12.3333333333, 3479.33333333)            3             1.954410   \n",
       "\n",
       "       perimeter  convexity  circularity_reciprocal  \n",
       "label                                                \n",
       "9       5.207107   0.960226                0.431532  \n",
       "12      6.621320   1.057191                0.498404  \n",
       "14      6.828427   1.025126                0.530070  \n",
       "24      7.414214   1.079009                0.546802  \n",
       "42      3.414214   0.878680                0.309208  "
      ]
     },
     "execution_count": 19,
     "metadata": {},
     "output_type": "execute_result"
    }
   ],
   "source": [
    "props.head()"
   ]
  },
  {
   "cell_type": "code",
   "execution_count": 16,
   "metadata": {
    "ExecuteTime": {
     "end_time": "2018-02-05T07:33:10.584008Z",
     "start_time": "2018-02-05T07:33:08.050783Z"
    },
    "collapsed": false
   },
   "outputs": [
    {
     "data": {
      "text/plain": [
       "<matplotlib.image.AxesImage at 0x7f85b66b7950>"
      ]
     },
     "execution_count": 16,
     "metadata": {},
     "output_type": "execute_result"
    },
    {
     "data": {
      "image/png": "[encoded data removed]",
      "text/plain": [
       "<matplotlib.figure.Figure at 0x7f85b65a6350>"
      ]
     },
     "metadata": {},
     "output_type": "display_data"
    }
   ],
   "source": [
    "plt.imshow(marker_image)"
   ]
  },
  {
   "cell_type": "markdown",
   "metadata": {},
   "source": [
    "# Custom pipeline"
   ]
  },
  {
   "cell_type": "markdown",
   "metadata": {},
   "source": [
    "## Original image"
   ]
  },
  {
   "cell_type": "code",
   "execution_count": 17,
   "metadata": {
    "ExecuteTime": {
     "end_time": "2018-02-05T07:33:12.562287Z",
     "start_time": "2018-02-05T07:33:10.587927Z"
    },
    "collapsed": false
   },
   "outputs": [
    {
     "data": {
      "image/png": "[encoded data removed]",
      "text/plain": [
       "<matplotlib.figure.Figure at 0x7f85b65d5350>"
      ]
     },
     "metadata": {},
     "output_type": "display_data"
    }
   ],
   "source": [
    "granulecheck = BubbleKicker(path + imgname, channel='blue')\n",
    "granulecheck.plot();"
   ]
  },
  {
   "cell_type": "code",
   "execution_count": 18,
   "metadata": {
    "ExecuteTime": {
     "end_time": "2018-02-05T07:33:17.702716Z",
     "start_time": "2018-02-05T07:33:12.565671Z"
    },
    "collapsed": false
   },
   "outputs": [
    {
     "data": {
      "image/png": "[encoded data removed]",
      "text/plain": [
       "<matplotlib.figure.Figure at 0x7f85b6590c10>"
      ]
     },
     "metadata": {},
     "output_type": "display_data"
    }
   ],
   "source": [
    "granulecheck.adaptive_threshold_opencv(225, 20)\n",
    "granulecheck.plot();"
   ]
  },
  {
   "cell_type": "code",
   "execution_count": 20,
   "metadata": {
    "ExecuteTime": {
     "end_time": "2018-02-05T07:35:00.937507Z",
     "start_time": "2018-02-05T07:34:59.448500Z"
    },
    "collapsed": false
   },
   "outputs": [
    {
     "data": {
      "image/png": "[encoded data removed]",
      "text/plain": [
       "<matplotlib.figure.Figure at 0x7f85b63c56d0>"
      ]
     },
     "metadata": {},
     "output_type": "display_data"
    }
   ],
   "source": [
    "granulecheck.dilate_opencv(3)\n",
    "granulecheck.plot();"
   ]
  },
  {
   "cell_type": "code",
   "execution_count": 21,
   "metadata": {
    "ExecuteTime": {
     "end_time": "2018-02-05T07:35:09.726717Z",
     "start_time": "2018-02-05T07:35:07.455995Z"
    },
    "collapsed": false
   },
   "outputs": [
    {
     "data": {
      "image/png": "[encoded data removed]",
      "text/plain": [
       "<matplotlib.figure.Figure at 0x7f85af6cd0d0>"
      ]
     },
     "metadata": {},
     "output_type": "display_data"
    }
   ],
   "source": [
    "granulecheck.clear_border_skimage(3,1)\n",
    "granulecheck.plot();"
   ]
  },
  {
   "cell_type": "code",
   "execution_count": 22,
   "metadata": {
    "ExecuteTime": {
     "end_time": "2018-02-05T07:35:16.911816Z",
     "start_time": "2018-02-05T07:35:15.478786Z"
    },
    "collapsed": false
   },
   "outputs": [
    {
     "data": {
      "image/png": "[encoded data removed]",
      "text/plain": [
       "<matplotlib.figure.Figure at 0x7f85a0fc2910>"
      ]
     },
     "metadata": {},
     "output_type": "display_data"
    }
   ],
   "source": [
    "granulecheck.erode_opencv()\n",
    "granulecheck.plot();"
   ]
  },
  {
   "cell_type": "code",
   "execution_count": 23,
   "metadata": {
    "ExecuteTime": {
     "end_time": "2018-02-05T07:35:21.586196Z",
     "start_time": "2018-02-05T07:35:21.573754Z"
    },
    "collapsed": false
   },
   "outputs": [
    {
     "name": "stdout",
     "output_type": "stream",
     "text": [
      "Steps undertaken since from raw image:\n",
      "adaptive threshold bubble detection with blocksize 225 and cvalue 20 - opencv\n",
      "dilate with footprintsize 3 - opencv\n",
      "clear border with buffer size 3 and bgval 1 -  skimage\n",
      "erode with footprintsize 1 - opencv\n",
      "\n",
      "\n"
     ]
    }
   ],
   "source": [
    "granulecheck.what_have_i_done()"
   ]
  },
  {
   "cell_type": "markdown",
   "metadata": {},
   "source": [
    "## Calculate granules properties"
   ]
  },
  {
   "cell_type": "code",
   "execution_count": 24,
   "metadata": {
    "ExecuteTime": {
     "end_time": "2018-02-05T07:36:58.842353Z",
     "start_time": "2018-02-05T07:35:31.752723Z"
    },
    "collapsed": false
   },
   "outputs": [
    {
     "name": "stdout",
     "output_type": "stream",
     "text": [
      "{'max': 5, 'min': 0.2}\n",
      "{'min': 1.9}\n"
     ]
    }
   ],
   "source": [
    "# calcola le proprieta' dei blob nell'immagine\n",
    "marker_image, props = bubble_properties_calculate(granulecheck.current_image,rules={'convexity': {'min':1.9}, #\n",
    "                                                                 'circularity_reciprocal': {'max': 5, 'min': 0.2}});"
   ]
  },
  {
   "cell_type": "code",
   "execution_count": 35,
   "metadata": {
    "ExecuteTime": {
     "end_time": "2018-02-05T07:40:25.384512Z",
     "start_time": "2018-02-05T07:40:25.219992Z"
    },
    "collapsed": false
   },
   "outputs": [
    {
     "data": {
      "text/html": [
       "<div>\n",
       "<table border=\"1\" class=\"dataframe\">\n",
       "  <thead>\n",
       "    <tr style=\"text-align: right;\">\n",
       "      <th></th>\n",
       "      <th>area</th>\n",
       "      <th>convex_area</th>\n",
       "      <th>equivalent_diameter</th>\n",
       "      <th>perimeter</th>\n",
       "      <th>convexity</th>\n",
       "      <th>circularity_reciprocal</th>\n",
       "      <th>equivalent_diameter_mm</th>\n",
       "      <th>classe</th>\n",
       "    </tr>\n",
       "  </thead>\n",
       "  <tbody>\n",
       "    <tr>\n",
       "      <th>count</th>\n",
       "      <td>790.000000</td>\n",
       "      <td>790.000000</td>\n",
       "      <td>790.000000</td>\n",
       "      <td>790.000000</td>\n",
       "      <td>790.000000</td>\n",
       "      <td>790.000000</td>\n",
       "      <td>790.000000</td>\n",
       "      <td>790.000000</td>\n",
       "    </tr>\n",
       "    <tr>\n",
       "      <th>mean</th>\n",
       "      <td>575.169620</td>\n",
       "      <td>661.954430</td>\n",
       "      <td>24.499512</td>\n",
       "      <td>98.422021</td>\n",
       "      <td>4.894798</td>\n",
       "      <td>1.658999</td>\n",
       "      <td>0.499990</td>\n",
       "      <td>1.003797</td>\n",
       "    </tr>\n",
       "    <tr>\n",
       "      <th>std</th>\n",
       "      <td>516.460624</td>\n",
       "      <td>610.110001</td>\n",
       "      <td>11.500872</td>\n",
       "      <td>51.112306</td>\n",
       "      <td>2.356786</td>\n",
       "      <td>0.589130</td>\n",
       "      <td>0.234712</td>\n",
       "      <td>0.061545</td>\n",
       "    </tr>\n",
       "    <tr>\n",
       "      <th>min</th>\n",
       "      <td>42.000000</td>\n",
       "      <td>47.000000</td>\n",
       "      <td>7.312733</td>\n",
       "      <td>21.863961</td>\n",
       "      <td>1.900810</td>\n",
       "      <td>0.893383</td>\n",
       "      <td>0.149239</td>\n",
       "      <td>1.000000</td>\n",
       "    </tr>\n",
       "    <tr>\n",
       "      <th>25%</th>\n",
       "      <td>168.250000</td>\n",
       "      <td>211.500000</td>\n",
       "      <td>14.636331</td>\n",
       "      <td>58.472087</td>\n",
       "      <td>2.620225</td>\n",
       "      <td>1.279469</td>\n",
       "      <td>0.298701</td>\n",
       "      <td>1.000000</td>\n",
       "    </tr>\n",
       "    <tr>\n",
       "      <th>50%</th>\n",
       "      <td>428.000000</td>\n",
       "      <td>499.500000</td>\n",
       "      <td>23.344090</td>\n",
       "      <td>93.805087</td>\n",
       "      <td>4.629197</td>\n",
       "      <td>1.460694</td>\n",
       "      <td>0.476410</td>\n",
       "      <td>1.000000</td>\n",
       "    </tr>\n",
       "    <tr>\n",
       "      <th>75%</th>\n",
       "      <td>821.000000</td>\n",
       "      <td>920.000000</td>\n",
       "      <td>32.331558</td>\n",
       "      <td>125.497475</td>\n",
       "      <td>6.684771</td>\n",
       "      <td>1.847458</td>\n",
       "      <td>0.659828</td>\n",
       "      <td>1.000000</td>\n",
       "    </tr>\n",
       "    <tr>\n",
       "      <th>max</th>\n",
       "      <td>3118.000000</td>\n",
       "      <td>5312.000000</td>\n",
       "      <td>63.007626</td>\n",
       "      <td>432.113744</td>\n",
       "      <td>12.754487</td>\n",
       "      <td>4.765519</td>\n",
       "      <td>1.285870</td>\n",
       "      <td>2.000000</td>\n",
       "    </tr>\n",
       "  </tbody>\n",
       "</table>\n",
       "</div>"
      ],
      "text/plain": [
       "              area  convex_area  equivalent_diameter   perimeter   convexity  \\\n",
       "count   790.000000   790.000000           790.000000  790.000000  790.000000   \n",
       "mean    575.169620   661.954430            24.499512   98.422021    4.894798   \n",
       "std     516.460624   610.110001            11.500872   51.112306    2.356786   \n",
       "min      42.000000    47.000000             7.312733   21.863961    1.900810   \n",
       "25%     168.250000   211.500000            14.636331   58.472087    2.620225   \n",
       "50%     428.000000   499.500000            23.344090   93.805087    4.629197   \n",
       "75%     821.000000   920.000000            32.331558  125.497475    6.684771   \n",
       "max    3118.000000  5312.000000            63.007626  432.113744   12.754487   \n",
       "\n",
       "       circularity_reciprocal  equivalent_diameter_mm      classe  \n",
       "count              790.000000              790.000000  790.000000  \n",
       "mean                 1.658999                0.499990    1.003797  \n",
       "std                  0.589130                0.234712    0.061545  \n",
       "min                  0.893383                0.149239    1.000000  \n",
       "25%                  1.279469                0.298701    1.000000  \n",
       "50%                  1.460694                0.476410    1.000000  \n",
       "75%                  1.847458                0.659828    1.000000  \n",
       "max                  4.765519                1.285870    2.000000  "
      ]
     },
     "execution_count": 35,
     "metadata": {},
     "output_type": "execute_result"
    }
   ],
   "source": [
    "props.describe()"
   ]
  },
  {
   "cell_type": "code",
   "execution_count": 37,
   "metadata": {
    "ExecuteTime": {
     "end_time": "2018-02-05T07:44:51.688474Z",
     "start_time": "2018-02-05T07:44:51.504484Z"
    },
    "collapsed": false
   },
   "outputs": [
    {
     "data": {
      "text/html": [
       "<div>\n",
       "<table border=\"1\" class=\"dataframe\">\n",
       "  <thead>\n",
       "    <tr style=\"text-align: right;\">\n",
       "      <th></th>\n",
       "      <th>area</th>\n",
       "      <th>centroid</th>\n",
       "      <th>convex_area</th>\n",
       "      <th>equivalent_diameter</th>\n",
       "      <th>perimeter</th>\n",
       "      <th>convexity</th>\n",
       "      <th>circularity_reciprocal</th>\n",
       "      <th>equivalent_diameter_mm</th>\n",
       "      <th>classe</th>\n",
       "    </tr>\n",
       "    <tr>\n",
       "      <th>label</th>\n",
       "      <th></th>\n",
       "      <th></th>\n",
       "      <th></th>\n",
       "      <th></th>\n",
       "      <th></th>\n",
       "      <th></th>\n",
       "      <th></th>\n",
       "      <th></th>\n",
       "      <th></th>\n",
       "    </tr>\n",
       "  </thead>\n",
       "  <tbody>\n",
       "    <tr>\n",
       "      <th>27</th>\n",
       "      <td>149</td>\n",
       "      <td>(38.1543624161, 3529.24161074)</td>\n",
       "      <td>299</td>\n",
       "      <td>13.773623</td>\n",
       "      <td>75.006097</td>\n",
       "      <td>1.986505</td>\n",
       "      <td>3.004672</td>\n",
       "      <td>0.281094</td>\n",
       "      <td>1.0</td>\n",
       "    </tr>\n",
       "    <tr>\n",
       "      <th>61</th>\n",
       "      <td>119</td>\n",
       "      <td>(77.9579831933, 3580.81512605)</td>\n",
       "      <td>173</td>\n",
       "      <td>12.309163</td>\n",
       "      <td>55.556349</td>\n",
       "      <td>2.141969</td>\n",
       "      <td>2.064004</td>\n",
       "      <td>0.251207</td>\n",
       "      <td>1.0</td>\n",
       "    </tr>\n",
       "    <tr>\n",
       "      <th>116</th>\n",
       "      <td>226</td>\n",
       "      <td>(133.415929204, 3675.59292035)</td>\n",
       "      <td>430</td>\n",
       "      <td>16.963258</td>\n",
       "      <td>107.976659</td>\n",
       "      <td>2.093045</td>\n",
       "      <td>4.105268</td>\n",
       "      <td>0.346189</td>\n",
       "      <td>1.0</td>\n",
       "    </tr>\n",
       "    <tr>\n",
       "      <th>130</th>\n",
       "      <td>155</td>\n",
       "      <td>(146.412903226, 1755.29032258)</td>\n",
       "      <td>248</td>\n",
       "      <td>14.048207</td>\n",
       "      <td>78.591883</td>\n",
       "      <td>1.972214</td>\n",
       "      <td>3.171128</td>\n",
       "      <td>0.286698</td>\n",
       "      <td>1.0</td>\n",
       "    </tr>\n",
       "    <tr>\n",
       "      <th>144</th>\n",
       "      <td>110</td>\n",
       "      <td>(150.572727273, 3695.46363636)</td>\n",
       "      <td>133</td>\n",
       "      <td>11.834541</td>\n",
       "      <td>43.520815</td>\n",
       "      <td>2.527526</td>\n",
       "      <td>1.370224</td>\n",
       "      <td>0.241521</td>\n",
       "      <td>1.0</td>\n",
       "    </tr>\n",
       "    <tr>\n",
       "      <th>152</th>\n",
       "      <td>143</td>\n",
       "      <td>(164.615384615, 1735.16783217)</td>\n",
       "      <td>200</td>\n",
       "      <td>13.493452</td>\n",
       "      <td>63.006097</td>\n",
       "      <td>2.269622</td>\n",
       "      <td>2.209120</td>\n",
       "      <td>0.275377</td>\n",
       "      <td>1.0</td>\n",
       "    </tr>\n",
       "    <tr>\n",
       "      <th>168</th>\n",
       "      <td>138</td>\n",
       "      <td>(171.847826087, 2324.57971014)</td>\n",
       "      <td>232</td>\n",
       "      <td>13.255454</td>\n",
       "      <td>68.213203</td>\n",
       "      <td>2.023069</td>\n",
       "      <td>2.683168</td>\n",
       "      <td>0.270519</td>\n",
       "      <td>1.0</td>\n",
       "    </tr>\n",
       "    <tr>\n",
       "      <th>190</th>\n",
       "      <td>141</td>\n",
       "      <td>(187.737588652, 2386.36879433)</td>\n",
       "      <td>189</td>\n",
       "      <td>13.398760</td>\n",
       "      <td>69.041631</td>\n",
       "      <td>2.042246</td>\n",
       "      <td>2.690253</td>\n",
       "      <td>0.273444</td>\n",
       "      <td>1.0</td>\n",
       "    </tr>\n",
       "    <tr>\n",
       "      <th>229</th>\n",
       "      <td>52</td>\n",
       "      <td>(222.942307692, 2391.0)</td>\n",
       "      <td>60</td>\n",
       "      <td>8.136858</td>\n",
       "      <td>26.727922</td>\n",
       "      <td>1.945531</td>\n",
       "      <td>1.093244</td>\n",
       "      <td>0.166058</td>\n",
       "      <td>1.0</td>\n",
       "    </tr>\n",
       "    <tr>\n",
       "      <th>239</th>\n",
       "      <td>98</td>\n",
       "      <td>(230.846938776, 3741.28571429)</td>\n",
       "      <td>113</td>\n",
       "      <td>11.170384</td>\n",
       "      <td>40.142136</td>\n",
       "      <td>2.441325</td>\n",
       "      <td>1.308474</td>\n",
       "      <td>0.227967</td>\n",
       "      <td>1.0</td>\n",
       "    </tr>\n",
       "    <tr>\n",
       "      <th>278</th>\n",
       "      <td>207</td>\n",
       "      <td>(271.178743961, 1948.10628019)</td>\n",
       "      <td>275</td>\n",
       "      <td>16.234549</td>\n",
       "      <td>74.077164</td>\n",
       "      <td>2.794383</td>\n",
       "      <td>2.109544</td>\n",
       "      <td>0.331317</td>\n",
       "      <td>1.0</td>\n",
       "    </tr>\n",
       "    <tr>\n",
       "      <th>287</th>\n",
       "      <td>139</td>\n",
       "      <td>(281.697841727, 2471.90647482)</td>\n",
       "      <td>171</td>\n",
       "      <td>13.303394</td>\n",
       "      <td>56.834524</td>\n",
       "      <td>2.445697</td>\n",
       "      <td>1.849268</td>\n",
       "      <td>0.271498</td>\n",
       "      <td>1.0</td>\n",
       "    </tr>\n",
       "    <tr>\n",
       "      <th>288</th>\n",
       "      <td>262</td>\n",
       "      <td>(283.698473282, 2607.6870229)</td>\n",
       "      <td>408</td>\n",
       "      <td>18.264412</td>\n",
       "      <td>101.355339</td>\n",
       "      <td>2.584965</td>\n",
       "      <td>3.120198</td>\n",
       "      <td>0.372743</td>\n",
       "      <td>1.0</td>\n",
       "    </tr>\n",
       "    <tr>\n",
       "      <th>308</th>\n",
       "      <td>142</td>\n",
       "      <td>(289.661971831, 2254.85915493)</td>\n",
       "      <td>176</td>\n",
       "      <td>13.446190</td>\n",
       "      <td>53.970563</td>\n",
       "      <td>2.631064</td>\n",
       "      <td>1.632359</td>\n",
       "      <td>0.274412</td>\n",
       "      <td>1.0</td>\n",
       "    </tr>\n",
       "    <tr>\n",
       "      <th>311</th>\n",
       "      <td>104</td>\n",
       "      <td>(293.259615385, 2955.89423077)</td>\n",
       "      <td>143</td>\n",
       "      <td>11.507255</td>\n",
       "      <td>44.520815</td>\n",
       "      <td>2.335986</td>\n",
       "      <td>1.516642</td>\n",
       "      <td>0.234842</td>\n",
       "      <td>1.0</td>\n",
       "    </tr>\n",
       "    <tr>\n",
       "      <th>320</th>\n",
       "      <td>50</td>\n",
       "      <td>(295.96, 2866.74)</td>\n",
       "      <td>54</td>\n",
       "      <td>7.978846</td>\n",
       "      <td>25.242641</td>\n",
       "      <td>1.980775</td>\n",
       "      <td>1.014121</td>\n",
       "      <td>0.162834</td>\n",
       "      <td>1.0</td>\n",
       "    </tr>\n",
       "    <tr>\n",
       "      <th>337</th>\n",
       "      <td>72</td>\n",
       "      <td>(313.180555556, 2060.25)</td>\n",
       "      <td>85</td>\n",
       "      <td>9.574615</td>\n",
       "      <td>33.520815</td>\n",
       "      <td>2.147919</td>\n",
       "      <td>1.241900</td>\n",
       "      <td>0.195400</td>\n",
       "      <td>1.0</td>\n",
       "    </tr>\n",
       "    <tr>\n",
       "      <th>338</th>\n",
       "      <td>84</td>\n",
       "      <td>(313.333333333, 2320.53571429)</td>\n",
       "      <td>90</td>\n",
       "      <td>10.341766</td>\n",
       "      <td>34.970563</td>\n",
       "      <td>2.402020</td>\n",
       "      <td>1.158553</td>\n",
       "      <td>0.211056</td>\n",
       "      <td>1.0</td>\n",
       "    </tr>\n",
       "    <tr>\n",
       "      <th>377</th>\n",
       "      <td>443</td>\n",
       "      <td>(341.860045147, 2436.70428894)</td>\n",
       "      <td>502</td>\n",
       "      <td>23.749634</td>\n",
       "      <td>92.976659</td>\n",
       "      <td>4.764637</td>\n",
       "      <td>1.552867</td>\n",
       "      <td>0.484686</td>\n",
       "      <td>1.0</td>\n",
       "    </tr>\n",
       "    <tr>\n",
       "      <th>383</th>\n",
       "      <td>179</td>\n",
       "      <td>(352.804469274, 2664.74301676)</td>\n",
       "      <td>294</td>\n",
       "      <td>15.096684</td>\n",
       "      <td>68.384776</td>\n",
       "      <td>2.617542</td>\n",
       "      <td>2.079007</td>\n",
       "      <td>0.308096</td>\n",
       "      <td>1.0</td>\n",
       "    </tr>\n",
       "    <tr>\n",
       "      <th>400</th>\n",
       "      <td>77</td>\n",
       "      <td>(353.116883117, 2388.46753247)</td>\n",
       "      <td>90</td>\n",
       "      <td>9.901487</td>\n",
       "      <td>35.142136</td>\n",
       "      <td>2.191102</td>\n",
       "      <td>1.276309</td>\n",
       "      <td>0.202071</td>\n",
       "      <td>1.0</td>\n",
       "    </tr>\n",
       "    <tr>\n",
       "      <th>451</th>\n",
       "      <td>138</td>\n",
       "      <td>(393.217391304, 3094.81884058)</td>\n",
       "      <td>150</td>\n",
       "      <td>13.255454</td>\n",
       "      <td>49.142136</td>\n",
       "      <td>2.808181</td>\n",
       "      <td>1.392577</td>\n",
       "      <td>0.270519</td>\n",
       "      <td>1.0</td>\n",
       "    </tr>\n",
       "    <tr>\n",
       "      <th>460</th>\n",
       "      <td>94</td>\n",
       "      <td>(398.212765957, 2474.36170213)</td>\n",
       "      <td>103</td>\n",
       "      <td>10.940042</td>\n",
       "      <td>37.556349</td>\n",
       "      <td>2.502906</td>\n",
       "      <td>1.194068</td>\n",
       "      <td>0.223266</td>\n",
       "      <td>1.0</td>\n",
       "    </tr>\n",
       "    <tr>\n",
       "      <th>470</th>\n",
       "      <td>208</td>\n",
       "      <td>(417.3125, 2283.26442308)</td>\n",
       "      <td>268</td>\n",
       "      <td>16.273716</td>\n",
       "      <td>76.213203</td>\n",
       "      <td>2.729186</td>\n",
       "      <td>2.222221</td>\n",
       "      <td>0.332117</td>\n",
       "      <td>1.0</td>\n",
       "    </tr>\n",
       "    <tr>\n",
       "      <th>473</th>\n",
       "      <td>179</td>\n",
       "      <td>(413.346368715, 2237.08938547)</td>\n",
       "      <td>308</td>\n",
       "      <td>15.096684</td>\n",
       "      <td>84.041631</td>\n",
       "      <td>2.129897</td>\n",
       "      <td>3.139974</td>\n",
       "      <td>0.308096</td>\n",
       "      <td>1.0</td>\n",
       "    </tr>\n",
       "    <tr>\n",
       "      <th>474</th>\n",
       "      <td>105</td>\n",
       "      <td>(412.285714286, 2335.2952381)</td>\n",
       "      <td>139</td>\n",
       "      <td>11.562446</td>\n",
       "      <td>49.006097</td>\n",
       "      <td>2.142591</td>\n",
       "      <td>1.820124</td>\n",
       "      <td>0.235968</td>\n",
       "      <td>1.0</td>\n",
       "    </tr>\n",
       "    <tr>\n",
       "      <th>479</th>\n",
       "      <td>83</td>\n",
       "      <td>(411.939759036, 2162.96385542)</td>\n",
       "      <td>92</td>\n",
       "      <td>10.280023</td>\n",
       "      <td>35.485281</td>\n",
       "      <td>2.338998</td>\n",
       "      <td>1.207282</td>\n",
       "      <td>0.209796</td>\n",
       "      <td>1.0</td>\n",
       "    </tr>\n",
       "    <tr>\n",
       "      <th>504</th>\n",
       "      <td>46</td>\n",
       "      <td>(429.347826087, 3023.13043478)</td>\n",
       "      <td>48</td>\n",
       "      <td>7.653040</td>\n",
       "      <td>23.071068</td>\n",
       "      <td>1.993839</td>\n",
       "      <td>0.920805</td>\n",
       "      <td>0.156184</td>\n",
       "      <td>1.0</td>\n",
       "    </tr>\n",
       "    <tr>\n",
       "      <th>520</th>\n",
       "      <td>54</td>\n",
       "      <td>(438.481481481, 2211.33333333)</td>\n",
       "      <td>55</td>\n",
       "      <td>8.291860</td>\n",
       "      <td>26.242641</td>\n",
       "      <td>2.057720</td>\n",
       "      <td>1.014872</td>\n",
       "      <td>0.169222</td>\n",
       "      <td>1.0</td>\n",
       "    </tr>\n",
       "    <tr>\n",
       "      <th>540</th>\n",
       "      <td>169</td>\n",
       "      <td>(460.331360947, 2055.86390533)</td>\n",
       "      <td>308</td>\n",
       "      <td>14.668929</td>\n",
       "      <td>83.591883</td>\n",
       "      <td>2.021727</td>\n",
       "      <td>3.290271</td>\n",
       "      <td>0.299366</td>\n",
       "      <td>1.0</td>\n",
       "    </tr>\n",
       "    <tr>\n",
       "      <th>...</th>\n",
       "      <td>...</td>\n",
       "      <td>...</td>\n",
       "      <td>...</td>\n",
       "      <td>...</td>\n",
       "      <td>...</td>\n",
       "      <td>...</td>\n",
       "      <td>...</td>\n",
       "      <td>...</td>\n",
       "      <td>...</td>\n",
       "    </tr>\n",
       "    <tr>\n",
       "      <th>3905</th>\n",
       "      <td>502</td>\n",
       "      <td>(2349.92629482, 3237.25298805)</td>\n",
       "      <td>544</td>\n",
       "      <td>25.281738</td>\n",
       "      <td>94.012193</td>\n",
       "      <td>5.339733</td>\n",
       "      <td>1.401054</td>\n",
       "      <td>0.515954</td>\n",
       "      <td>1.0</td>\n",
       "    </tr>\n",
       "    <tr>\n",
       "      <th>3915</th>\n",
       "      <td>98</td>\n",
       "      <td>(2351.35714286, 3427.95918367)</td>\n",
       "      <td>125</td>\n",
       "      <td>11.170384</td>\n",
       "      <td>40.798990</td>\n",
       "      <td>2.402020</td>\n",
       "      <td>1.351646</td>\n",
       "      <td>0.227967</td>\n",
       "      <td>1.0</td>\n",
       "    </tr>\n",
       "    <tr>\n",
       "      <th>3921</th>\n",
       "      <td>74</td>\n",
       "      <td>(2354.7027027, 2749.13513514)</td>\n",
       "      <td>83</td>\n",
       "      <td>9.706685</td>\n",
       "      <td>34.313708</td>\n",
       "      <td>2.156572</td>\n",
       "      <td>1.266175</td>\n",
       "      <td>0.198096</td>\n",
       "      <td>1.0</td>\n",
       "    </tr>\n",
       "    <tr>\n",
       "      <th>3922</th>\n",
       "      <td>847</td>\n",
       "      <td>(2367.53955136, 2962.7012987)</td>\n",
       "      <td>998</td>\n",
       "      <td>32.839517</td>\n",
       "      <td>140.604076</td>\n",
       "      <td>6.024007</td>\n",
       "      <td>1.857388</td>\n",
       "      <td>0.670194</td>\n",
       "      <td>1.0</td>\n",
       "    </tr>\n",
       "    <tr>\n",
       "      <th>3940</th>\n",
       "      <td>965</td>\n",
       "      <td>(2380.15129534, 3261.90880829)</td>\n",
       "      <td>1057</td>\n",
       "      <td>35.052477</td>\n",
       "      <td>135.497475</td>\n",
       "      <td>7.121904</td>\n",
       "      <td>1.513998</td>\n",
       "      <td>0.715357</td>\n",
       "      <td>1.0</td>\n",
       "    </tr>\n",
       "    <tr>\n",
       "      <th>3986</th>\n",
       "      <td>59</td>\n",
       "      <td>(2400.57627119, 3407.15254237)</td>\n",
       "      <td>69</td>\n",
       "      <td>8.667245</td>\n",
       "      <td>30.520815</td>\n",
       "      <td>1.933107</td>\n",
       "      <td>1.256407</td>\n",
       "      <td>0.176883</td>\n",
       "      <td>1.0</td>\n",
       "    </tr>\n",
       "    <tr>\n",
       "      <th>3995</th>\n",
       "      <td>1137</td>\n",
       "      <td>(2428.20404573, 2284.51011434)</td>\n",
       "      <td>1346</td>\n",
       "      <td>38.048303</td>\n",
       "      <td>168.260931</td>\n",
       "      <td>6.757362</td>\n",
       "      <td>1.981510</td>\n",
       "      <td>0.776496</td>\n",
       "      <td>1.0</td>\n",
       "    </tr>\n",
       "    <tr>\n",
       "      <th>4030</th>\n",
       "      <td>150</td>\n",
       "      <td>(2444.76666667, 3284.08)</td>\n",
       "      <td>156</td>\n",
       "      <td>13.819766</td>\n",
       "      <td>44.041631</td>\n",
       "      <td>3.405868</td>\n",
       "      <td>1.029024</td>\n",
       "      <td>0.282036</td>\n",
       "      <td>1.0</td>\n",
       "    </tr>\n",
       "    <tr>\n",
       "      <th>4032</th>\n",
       "      <td>89</td>\n",
       "      <td>(2444.98876404, 3562.25842697)</td>\n",
       "      <td>122</td>\n",
       "      <td>10.645108</td>\n",
       "      <td>42.313708</td>\n",
       "      <td>2.103337</td>\n",
       "      <td>1.600893</td>\n",
       "      <td>0.217247</td>\n",
       "      <td>1.0</td>\n",
       "    </tr>\n",
       "    <tr>\n",
       "      <th>4044</th>\n",
       "      <td>749</td>\n",
       "      <td>(2468.76502003, 3318.53404539)</td>\n",
       "      <td>1081</td>\n",
       "      <td>30.881328</td>\n",
       "      <td>176.225397</td>\n",
       "      <td>4.250239</td>\n",
       "      <td>3.299479</td>\n",
       "      <td>0.630231</td>\n",
       "      <td>1.0</td>\n",
       "    </tr>\n",
       "    <tr>\n",
       "      <th>4052</th>\n",
       "      <td>561</td>\n",
       "      <td>(2466.54367201, 2864.83065954)</td>\n",
       "      <td>599</td>\n",
       "      <td>26.726155</td>\n",
       "      <td>95.012193</td>\n",
       "      <td>5.904505</td>\n",
       "      <td>1.280519</td>\n",
       "      <td>0.545432</td>\n",
       "      <td>1.0</td>\n",
       "    </tr>\n",
       "    <tr>\n",
       "      <th>4055</th>\n",
       "      <td>49</td>\n",
       "      <td>(2459.34693878, 2468.6122449)</td>\n",
       "      <td>53</td>\n",
       "      <td>7.898654</td>\n",
       "      <td>25.071068</td>\n",
       "      <td>1.954444</td>\n",
       "      <td>1.020798</td>\n",
       "      <td>0.161197</td>\n",
       "      <td>1.0</td>\n",
       "    </tr>\n",
       "    <tr>\n",
       "      <th>4073</th>\n",
       "      <td>155</td>\n",
       "      <td>(2482.0516129, 1494.95483871)</td>\n",
       "      <td>266</td>\n",
       "      <td>14.048207</td>\n",
       "      <td>71.834524</td>\n",
       "      <td>2.157737</td>\n",
       "      <td>2.649262</td>\n",
       "      <td>0.286698</td>\n",
       "      <td>1.0</td>\n",
       "    </tr>\n",
       "    <tr>\n",
       "      <th>4114</th>\n",
       "      <td>148</td>\n",
       "      <td>(2509.06756757, 2776.50675676)</td>\n",
       "      <td>198</td>\n",
       "      <td>13.727325</td>\n",
       "      <td>55.591883</td>\n",
       "      <td>2.662259</td>\n",
       "      <td>1.661695</td>\n",
       "      <td>0.280149</td>\n",
       "      <td>1.0</td>\n",
       "    </tr>\n",
       "    <tr>\n",
       "      <th>4129</th>\n",
       "      <td>101</td>\n",
       "      <td>(2520.38613861, 3237.83168317)</td>\n",
       "      <td>150</td>\n",
       "      <td>11.340070</td>\n",
       "      <td>51.556349</td>\n",
       "      <td>1.959022</td>\n",
       "      <td>2.094272</td>\n",
       "      <td>0.231430</td>\n",
       "      <td>1.0</td>\n",
       "    </tr>\n",
       "    <tr>\n",
       "      <th>4147</th>\n",
       "      <td>82</td>\n",
       "      <td>(2527.04878049, 2890.19512195)</td>\n",
       "      <td>93</td>\n",
       "      <td>10.217908</td>\n",
       "      <td>34.106602</td>\n",
       "      <td>2.404227</td>\n",
       "      <td>1.128894</td>\n",
       "      <td>0.208529</td>\n",
       "      <td>1.0</td>\n",
       "    </tr>\n",
       "    <tr>\n",
       "      <th>4184</th>\n",
       "      <td>210</td>\n",
       "      <td>(2564.7047619, 3390.23809524)</td>\n",
       "      <td>341</td>\n",
       "      <td>16.351768</td>\n",
       "      <td>84.905592</td>\n",
       "      <td>2.473335</td>\n",
       "      <td>2.731766</td>\n",
       "      <td>0.333710</td>\n",
       "      <td>1.0</td>\n",
       "    </tr>\n",
       "    <tr>\n",
       "      <th>4189</th>\n",
       "      <td>437</td>\n",
       "      <td>(2571.9382151, 3195.35240275)</td>\n",
       "      <td>478</td>\n",
       "      <td>23.588253</td>\n",
       "      <td>84.597980</td>\n",
       "      <td>5.165608</td>\n",
       "      <td>1.303253</td>\n",
       "      <td>0.481393</td>\n",
       "      <td>1.0</td>\n",
       "    </tr>\n",
       "    <tr>\n",
       "      <th>4191</th>\n",
       "      <td>173</td>\n",
       "      <td>(2568.6300578, 2345.60115607)</td>\n",
       "      <td>268</td>\n",
       "      <td>14.841511</td>\n",
       "      <td>79.491378</td>\n",
       "      <td>2.176337</td>\n",
       "      <td>2.906592</td>\n",
       "      <td>0.302888</td>\n",
       "      <td>1.0</td>\n",
       "    </tr>\n",
       "    <tr>\n",
       "      <th>4250</th>\n",
       "      <td>42</td>\n",
       "      <td>(2593.76190476, 3329.42857143)</td>\n",
       "      <td>47</td>\n",
       "      <td>7.312733</td>\n",
       "      <td>21.863961</td>\n",
       "      <td>1.920969</td>\n",
       "      <td>0.905730</td>\n",
       "      <td>0.149239</td>\n",
       "      <td>1.0</td>\n",
       "    </tr>\n",
       "    <tr>\n",
       "      <th>4255</th>\n",
       "      <td>1464</td>\n",
       "      <td>(2617.6147541, 3073.16120219)</td>\n",
       "      <td>1565</td>\n",
       "      <td>43.174329</td>\n",
       "      <td>157.432504</td>\n",
       "      <td>9.299223</td>\n",
       "      <td>1.347218</td>\n",
       "      <td>0.881109</td>\n",
       "      <td>NaN</td>\n",
       "    </tr>\n",
       "    <tr>\n",
       "      <th>4293</th>\n",
       "      <td>135</td>\n",
       "      <td>(2629.2962963, 2417.24444444)</td>\n",
       "      <td>171</td>\n",
       "      <td>13.110581</td>\n",
       "      <td>49.798990</td>\n",
       "      <td>2.710898</td>\n",
       "      <td>1.461832</td>\n",
       "      <td>0.267563</td>\n",
       "      <td>1.0</td>\n",
       "    </tr>\n",
       "    <tr>\n",
       "      <th>4312</th>\n",
       "      <td>157</td>\n",
       "      <td>(2641.55414013, 1653.08280255)</td>\n",
       "      <td>210</td>\n",
       "      <td>14.138550</td>\n",
       "      <td>68.834524</td>\n",
       "      <td>2.280832</td>\n",
       "      <td>2.401613</td>\n",
       "      <td>0.288542</td>\n",
       "      <td>1.0</td>\n",
       "    </tr>\n",
       "    <tr>\n",
       "      <th>4346</th>\n",
       "      <td>55</td>\n",
       "      <td>(2658.38181818, 3169.74545455)</td>\n",
       "      <td>63</td>\n",
       "      <td>8.368284</td>\n",
       "      <td>28.935029</td>\n",
       "      <td>1.900810</td>\n",
       "      <td>1.211366</td>\n",
       "      <td>0.170781</td>\n",
       "      <td>1.0</td>\n",
       "    </tr>\n",
       "    <tr>\n",
       "      <th>4360</th>\n",
       "      <td>141</td>\n",
       "      <td>(2670.44680851, 3409.18439716)</td>\n",
       "      <td>176</td>\n",
       "      <td>13.398760</td>\n",
       "      <td>65.248737</td>\n",
       "      <td>2.160961</td>\n",
       "      <td>2.402787</td>\n",
       "      <td>0.273444</td>\n",
       "      <td>1.0</td>\n",
       "    </tr>\n",
       "    <tr>\n",
       "      <th>4406</th>\n",
       "      <td>210</td>\n",
       "      <td>(2698.2952381, 1721.70952381)</td>\n",
       "      <td>309</td>\n",
       "      <td>16.351768</td>\n",
       "      <td>90.041631</td>\n",
       "      <td>2.332255</td>\n",
       "      <td>3.072257</td>\n",
       "      <td>0.333710</td>\n",
       "      <td>1.0</td>\n",
       "    </tr>\n",
       "    <tr>\n",
       "      <th>4449</th>\n",
       "      <td>68</td>\n",
       "      <td>(2715.13235294, 1733.14705882)</td>\n",
       "      <td>90</td>\n",
       "      <td>9.304853</td>\n",
       "      <td>35.106602</td>\n",
       "      <td>1.936958</td>\n",
       "      <td>1.442311</td>\n",
       "      <td>0.189895</td>\n",
       "      <td>1.0</td>\n",
       "    </tr>\n",
       "    <tr>\n",
       "      <th>4492</th>\n",
       "      <td>203</td>\n",
       "      <td>(2748.71921182, 1781.50246305)</td>\n",
       "      <td>336</td>\n",
       "      <td>16.076928</td>\n",
       "      <td>95.491378</td>\n",
       "      <td>2.125846</td>\n",
       "      <td>3.574559</td>\n",
       "      <td>0.328101</td>\n",
       "      <td>1.0</td>\n",
       "    </tr>\n",
       "    <tr>\n",
       "      <th>4506</th>\n",
       "      <td>166</td>\n",
       "      <td>(2752.05421687, 3686.74096386)</td>\n",
       "      <td>248</td>\n",
       "      <td>14.538149</td>\n",
       "      <td>76.248737</td>\n",
       "      <td>2.177085</td>\n",
       "      <td>2.787067</td>\n",
       "      <td>0.296697</td>\n",
       "      <td>1.0</td>\n",
       "    </tr>\n",
       "    <tr>\n",
       "      <th>4616</th>\n",
       "      <td>204</td>\n",
       "      <td>(2814.61764706, 3071.76960784)</td>\n",
       "      <td>250</td>\n",
       "      <td>16.116478</td>\n",
       "      <td>82.941125</td>\n",
       "      <td>2.459576</td>\n",
       "      <td>2.683489</td>\n",
       "      <td>0.328908</td>\n",
       "      <td>1.0</td>\n",
       "    </tr>\n",
       "  </tbody>\n",
       "</table>\n",
       "<p>790 rows × 9 columns</p>\n",
       "</div>"
      ],
      "text/plain": [
       "       area                        centroid  convex_area  equivalent_diameter  \\\n",
       "label                                                                           \n",
       "27      149  (38.1543624161, 3529.24161074)          299            13.773623   \n",
       "61      119  (77.9579831933, 3580.81512605)          173            12.309163   \n",
       "116     226  (133.415929204, 3675.59292035)          430            16.963258   \n",
       "130     155  (146.412903226, 1755.29032258)          248            14.048207   \n",
       "144     110  (150.572727273, 3695.46363636)          133            11.834541   \n",
       "152     143  (164.615384615, 1735.16783217)          200            13.493452   \n",
       "168     138  (171.847826087, 2324.57971014)          232            13.255454   \n",
       "190     141  (187.737588652, 2386.36879433)          189            13.398760   \n",
       "229      52         (222.942307692, 2391.0)           60             8.136858   \n",
       "239      98  (230.846938776, 3741.28571429)          113            11.170384   \n",
       "278     207  (271.178743961, 1948.10628019)          275            16.234549   \n",
       "287     139  (281.697841727, 2471.90647482)          171            13.303394   \n",
       "288     262   (283.698473282, 2607.6870229)          408            18.264412   \n",
       "308     142  (289.661971831, 2254.85915493)          176            13.446190   \n",
       "311     104  (293.259615385, 2955.89423077)          143            11.507255   \n",
       "320      50               (295.96, 2866.74)           54             7.978846   \n",
       "337      72        (313.180555556, 2060.25)           85             9.574615   \n",
       "338      84  (313.333333333, 2320.53571429)           90            10.341766   \n",
       "377     443  (341.860045147, 2436.70428894)          502            23.749634   \n",
       "383     179  (352.804469274, 2664.74301676)          294            15.096684   \n",
       "400      77  (353.116883117, 2388.46753247)           90             9.901487   \n",
       "451     138  (393.217391304, 3094.81884058)          150            13.255454   \n",
       "460      94  (398.212765957, 2474.36170213)          103            10.940042   \n",
       "470     208       (417.3125, 2283.26442308)          268            16.273716   \n",
       "473     179  (413.346368715, 2237.08938547)          308            15.096684   \n",
       "474     105   (412.285714286, 2335.2952381)          139            11.562446   \n",
       "479      83  (411.939759036, 2162.96385542)           92            10.280023   \n",
       "504      46  (429.347826087, 3023.13043478)           48             7.653040   \n",
       "520      54  (438.481481481, 2211.33333333)           55             8.291860   \n",
       "540     169  (460.331360947, 2055.86390533)          308            14.668929   \n",
       "...     ...                             ...          ...                  ...   \n",
       "3905    502  (2349.92629482, 3237.25298805)          544            25.281738   \n",
       "3915     98  (2351.35714286, 3427.95918367)          125            11.170384   \n",
       "3921     74   (2354.7027027, 2749.13513514)           83             9.706685   \n",
       "3922    847   (2367.53955136, 2962.7012987)          998            32.839517   \n",
       "3940    965  (2380.15129534, 3261.90880829)         1057            35.052477   \n",
       "3986     59  (2400.57627119, 3407.15254237)           69             8.667245   \n",
       "3995   1137  (2428.20404573, 2284.51011434)         1346            38.048303   \n",
       "4030    150        (2444.76666667, 3284.08)          156            13.819766   \n",
       "4032     89  (2444.98876404, 3562.25842697)          122            10.645108   \n",
       "4044    749  (2468.76502003, 3318.53404539)         1081            30.881328   \n",
       "4052    561  (2466.54367201, 2864.83065954)          599            26.726155   \n",
       "4055     49   (2459.34693878, 2468.6122449)           53             7.898654   \n",
       "4073    155   (2482.0516129, 1494.95483871)          266            14.048207   \n",
       "4114    148  (2509.06756757, 2776.50675676)          198            13.727325   \n",
       "4129    101  (2520.38613861, 3237.83168317)          150            11.340070   \n",
       "4147     82  (2527.04878049, 2890.19512195)           93            10.217908   \n",
       "4184    210   (2564.7047619, 3390.23809524)          341            16.351768   \n",
       "4189    437   (2571.9382151, 3195.35240275)          478            23.588253   \n",
       "4191    173   (2568.6300578, 2345.60115607)          268            14.841511   \n",
       "4250     42  (2593.76190476, 3329.42857143)           47             7.312733   \n",
       "4255   1464   (2617.6147541, 3073.16120219)         1565            43.174329   \n",
       "4293    135   (2629.2962963, 2417.24444444)          171            13.110581   \n",
       "4312    157  (2641.55414013, 1653.08280255)          210            14.138550   \n",
       "4346     55  (2658.38181818, 3169.74545455)           63             8.368284   \n",
       "4360    141  (2670.44680851, 3409.18439716)          176            13.398760   \n",
       "4406    210   (2698.2952381, 1721.70952381)          309            16.351768   \n",
       "4449     68  (2715.13235294, 1733.14705882)           90             9.304853   \n",
       "4492    203  (2748.71921182, 1781.50246305)          336            16.076928   \n",
       "4506    166  (2752.05421687, 3686.74096386)          248            14.538149   \n",
       "4616    204  (2814.61764706, 3071.76960784)          250            16.116478   \n",
       "\n",
       "        perimeter  convexity  circularity_reciprocal  equivalent_diameter_mm  \\\n",
       "label                                                                          \n",
       "27      75.006097   1.986505                3.004672                0.281094   \n",
       "61      55.556349   2.141969                2.064004                0.251207   \n",
       "116    107.976659   2.093045                4.105268                0.346189   \n",
       "130     78.591883   1.972214                3.171128                0.286698   \n",
       "144     43.520815   2.527526                1.370224                0.241521   \n",
       "152     63.006097   2.269622                2.209120                0.275377   \n",
       "168     68.213203   2.023069                2.683168                0.270519   \n",
       "190     69.041631   2.042246                2.690253                0.273444   \n",
       "229     26.727922   1.945531                1.093244                0.166058   \n",
       "239     40.142136   2.441325                1.308474                0.227967   \n",
       "278     74.077164   2.794383                2.109544                0.331317   \n",
       "287     56.834524   2.445697                1.849268                0.271498   \n",
       "288    101.355339   2.584965                3.120198                0.372743   \n",
       "308     53.970563   2.631064                1.632359                0.274412   \n",
       "311     44.520815   2.335986                1.516642                0.234842   \n",
       "320     25.242641   1.980775                1.014121                0.162834   \n",
       "337     33.520815   2.147919                1.241900                0.195400   \n",
       "338     34.970563   2.402020                1.158553                0.211056   \n",
       "377     92.976659   4.764637                1.552867                0.484686   \n",
       "383     68.384776   2.617542                2.079007                0.308096   \n",
       "400     35.142136   2.191102                1.276309                0.202071   \n",
       "451     49.142136   2.808181                1.392577                0.270519   \n",
       "460     37.556349   2.502906                1.194068                0.223266   \n",
       "470     76.213203   2.729186                2.222221                0.332117   \n",
       "473     84.041631   2.129897                3.139974                0.308096   \n",
       "474     49.006097   2.142591                1.820124                0.235968   \n",
       "479     35.485281   2.338998                1.207282                0.209796   \n",
       "504     23.071068   1.993839                0.920805                0.156184   \n",
       "520     26.242641   2.057720                1.014872                0.169222   \n",
       "540     83.591883   2.021727                3.290271                0.299366   \n",
       "...           ...        ...                     ...                     ...   \n",
       "3905    94.012193   5.339733                1.401054                0.515954   \n",
       "3915    40.798990   2.402020                1.351646                0.227967   \n",
       "3921    34.313708   2.156572                1.266175                0.198096   \n",
       "3922   140.604076   6.024007                1.857388                0.670194   \n",
       "3940   135.497475   7.121904                1.513998                0.715357   \n",
       "3986    30.520815   1.933107                1.256407                0.176883   \n",
       "3995   168.260931   6.757362                1.981510                0.776496   \n",
       "4030    44.041631   3.405868                1.029024                0.282036   \n",
       "4032    42.313708   2.103337                1.600893                0.217247   \n",
       "4044   176.225397   4.250239                3.299479                0.630231   \n",
       "4052    95.012193   5.904505                1.280519                0.545432   \n",
       "4055    25.071068   1.954444                1.020798                0.161197   \n",
       "4073    71.834524   2.157737                2.649262                0.286698   \n",
       "4114    55.591883   2.662259                1.661695                0.280149   \n",
       "4129    51.556349   1.959022                2.094272                0.231430   \n",
       "4147    34.106602   2.404227                1.128894                0.208529   \n",
       "4184    84.905592   2.473335                2.731766                0.333710   \n",
       "4189    84.597980   5.165608                1.303253                0.481393   \n",
       "4191    79.491378   2.176337                2.906592                0.302888   \n",
       "4250    21.863961   1.920969                0.905730                0.149239   \n",
       "4255   157.432504   9.299223                1.347218                0.881109   \n",
       "4293    49.798990   2.710898                1.461832                0.267563   \n",
       "4312    68.834524   2.280832                2.401613                0.288542   \n",
       "4346    28.935029   1.900810                1.211366                0.170781   \n",
       "4360    65.248737   2.160961                2.402787                0.273444   \n",
       "4406    90.041631   2.332255                3.072257                0.333710   \n",
       "4449    35.106602   1.936958                1.442311                0.189895   \n",
       "4492    95.491378   2.125846                3.574559                0.328101   \n",
       "4506    76.248737   2.177085                2.787067                0.296697   \n",
       "4616    82.941125   2.459576                2.683489                0.328908   \n",
       "\n",
       "       classe  \n",
       "label          \n",
       "27        1.0  \n",
       "61        1.0  \n",
       "116       1.0  \n",
       "130       1.0  \n",
       "144       1.0  \n",
       "152       1.0  \n",
       "168       1.0  \n",
       "190       1.0  \n",
       "229       1.0  \n",
       "239       1.0  \n",
       "278       1.0  \n",
       "287       1.0  \n",
       "288       1.0  \n",
       "308       1.0  \n",
       "311       1.0  \n",
       "320       1.0  \n",
       "337       1.0  \n",
       "338       1.0  \n",
       "377       1.0  \n",
       "383       1.0  \n",
       "400       1.0  \n",
       "451       1.0  \n",
       "460       1.0  \n",
       "470       1.0  \n",
       "473       1.0  \n",
       "474       1.0  \n",
       "479       1.0  \n",
       "504       1.0  \n",
       "520       1.0  \n",
       "540       1.0  \n",
       "...       ...  \n",
       "3905      1.0  \n",
       "3915      1.0  \n",
       "3921      1.0  \n",
       "3922      1.0  \n",
       "3940      1.0  \n",
       "3986      1.0  \n",
       "3995      1.0  \n",
       "4030      1.0  \n",
       "4032      1.0  \n",
       "4044      1.0  \n",
       "4052      1.0  \n",
       "4055      1.0  \n",
       "4073      1.0  \n",
       "4114      1.0  \n",
       "4129      1.0  \n",
       "4147      1.0  \n",
       "4184      1.0  \n",
       "4189      1.0  \n",
       "4191      1.0  \n",
       "4250      1.0  \n",
       "4255      NaN  \n",
       "4293      1.0  \n",
       "4312      1.0  \n",
       "4346      1.0  \n",
       "4360      1.0  \n",
       "4406      1.0  \n",
       "4449      1.0  \n",
       "4492      1.0  \n",
       "4506      1.0  \n",
       "4616      1.0  \n",
       "\n",
       "[790 rows x 9 columns]"
      ]
     },
     "execution_count": 37,
     "metadata": {},
     "output_type": "execute_result"
    }
   ],
   "source": [
    "# definisce classi\n",
    "def classe(equivalent_diameter_mm):\n",
    "    if equivalent_diameter_mm >= 1.4:\n",
    "        return 5 \n",
    "    elif 1.2 <= equivalent_diameter_mm < 1.4:\n",
    "        return 4\n",
    "    elif 1. <= equivalent_diameter_mm < 1.2:\n",
    "        return 3\n",
    "    elif .8 <= equivalent_diameter_mm < 0.1:\n",
    "        return 2\n",
    "    elif equivalent_diameter_mm < 0.8:\n",
    "        return 1\n",
    "\n",
    "# aggiunge colonna con misura effettiva dei granuli\n",
    "props['equivalent_diameter_mm'] = props['equivalent_diameter']/49\n",
    "# aggiunge una colonnna 'classe' alle proprieta'\n",
    "props['classe']=props[\"equivalent_diameter_mm\"].apply(classe)\n",
    "props"
   ]
  },
  {
   "cell_type": "code",
   "execution_count": 38,
   "metadata": {
    "ExecuteTime": {
     "end_time": "2018-02-05T07:44:58.028568Z",
     "start_time": "2018-02-05T07:44:58.011136Z"
    },
    "collapsed": false
   },
   "outputs": [
    {
     "data": {
      "text/plain": [
       "area                      790\n",
       "centroid                  790\n",
       "convex_area               790\n",
       "equivalent_diameter       790\n",
       "perimeter                 790\n",
       "convexity                 790\n",
       "circularity_reciprocal    790\n",
       "equivalent_diameter_mm    790\n",
       "classe                    724\n",
       "dtype: int64"
      ]
     },
     "execution_count": 38,
     "metadata": {},
     "output_type": "execute_result"
    }
   ],
   "source": [
    "classi=props[\"equivalent_diameter_mm\"].apply(classe)\n",
    "props.count()"
   ]
  },
  {
   "cell_type": "markdown",
   "metadata": {},
   "source": [
    "## Selected and classified granules"
   ]
  },
  {
   "cell_type": "code",
   "execution_count": 39,
   "metadata": {
    "ExecuteTime": {
     "end_time": "2018-02-05T07:45:03.350697Z",
     "start_time": "2018-02-05T07:45:01.785370Z"
    },
    "collapsed": false
   },
   "outputs": [
    {
     "data": {
      "text/plain": [
       "<matplotlib.image.AxesImage at 0x7f85afc5e810>"
      ]
     },
     "execution_count": 39,
     "metadata": {},
     "output_type": "execute_result"
    },
    {
     "data": {
      "image/png": "[encoded data removed]",
      "text/plain": [
       "<matplotlib.figure.Figure at 0x7f85a0c958d0>"
      ]
     },
     "metadata": {},
     "output_type": "display_data"
    }
   ],
   "source": [
    "plt.imshow(marker_image>0, cmap='gray')"
   ]
  },
  {
   "cell_type": "code",
   "execution_count": 40,
   "metadata": {
    "ExecuteTime": {
     "end_time": "2018-02-05T07:45:04.191085Z",
     "start_time": "2018-02-05T07:45:04.143882Z"
    },
    "collapsed": false
   },
   "outputs": [
    {
     "data": {
      "text/html": [
       "<div>\n",
       "<table border=\"1\" class=\"dataframe\">\n",
       "  <thead>\n",
       "    <tr>\n",
       "      <th></th>\n",
       "      <th>equivalent_diameter_mm</th>\n",
       "    </tr>\n",
       "    <tr>\n",
       "      <th></th>\n",
       "      <th>count</th>\n",
       "    </tr>\n",
       "    <tr>\n",
       "      <th>classe</th>\n",
       "      <th></th>\n",
       "    </tr>\n",
       "  </thead>\n",
       "  <tbody>\n",
       "    <tr>\n",
       "      <th>1.0</th>\n",
       "      <td>700</td>\n",
       "    </tr>\n",
       "    <tr>\n",
       "      <th>3.0</th>\n",
       "      <td>21</td>\n",
       "    </tr>\n",
       "    <tr>\n",
       "      <th>4.0</th>\n",
       "      <td>3</td>\n",
       "    </tr>\n",
       "  </tbody>\n",
       "</table>\n",
       "</div>"
      ],
      "text/plain": [
       "       equivalent_diameter_mm\n",
       "                        count\n",
       "classe                       \n",
       "1.0                       700\n",
       "3.0                        21\n",
       "4.0                         3"
      ]
     },
     "execution_count": 40,
     "metadata": {},
     "output_type": "execute_result"
    }
   ],
   "source": [
    "# conta per ogni classe quanti granuli ci sono\n",
    "props[['equivalent_diameter_mm', 'classe']].groupby(['classe']).agg(['count'])"
   ]
  },
  {
   "cell_type": "code",
   "execution_count": 41,
   "metadata": {
    "ExecuteTime": {
     "end_time": "2018-02-05T07:45:05.478004Z",
     "start_time": "2018-02-05T07:45:05.149866Z"
    },
    "collapsed": false
   },
   "outputs": [
    {
     "data": {
      "text/plain": [
       "(None, <matplotlib.text.Text at 0x7f85a0974190>)"
      ]
     },
     "execution_count": 41,
     "metadata": {},
     "output_type": "execute_result"
    },
    {
     "data": {
      "image/png": "[encoded data removed]",
      "text/plain": [
       "<matplotlib.figure.Figure at 0x7f85a0d42b10>"
      ]
     },
     "metadata": {},
     "output_type": "display_data"
    }
   ],
   "source": [
    "fig = plt.figure(figsize=(5,5));\n",
    "plt.xticks([k for k in range(0,7)]);\n",
    "classi.hist(bins = np.arange(1,7)-0.5, \n",
    "            rwidth=0.2, \n",
    "            color='green', \n",
    "            align='mid', \n",
    "            alpha=0.8); #rwidth =spessore barra #non riesco a mettere il numero al centro della barra\n",
    "\n",
    "plt.grid('on'),plt.title('DISTRIBUZIONE GRANULOMETRICA')\n",
    "# plt.savefig(path + '\\\\' + 'distribuzione_granulometrica.jpg',dpi=500)"
   ]
  },
  {
   "cell_type": "code",
   "execution_count": 42,
   "metadata": {
    "ExecuteTime": {
     "end_time": "2018-02-05T07:45:06.452876Z",
     "start_time": "2018-02-05T07:45:06.374128Z"
    },
    "collapsed": true
   },
   "outputs": [],
   "source": [
    "# con questo archivi la posizione x e y e la classe di ogni centroide in tre variabili (x,y e cls)\n",
    "x = []; y = []; cls = []\n",
    "for i in props['centroid'].reset_index().index:\n",
    "    x = np.append(x, props['centroid'].values[i][1])\n",
    "    y = np.append(y, props['centroid'].values[i][0])\n",
    "    cls = np.append(cls, props['classe'].values[i])"
   ]
  },
  {
   "cell_type": "code",
   "execution_count": 43,
   "metadata": {
    "ExecuteTime": {
     "end_time": "2018-02-05T07:45:10.784193Z",
     "start_time": "2018-02-05T07:45:07.165864Z"
    },
    "collapsed": false
   },
   "outputs": [
    {
     "ename": "ValueError",
     "evalue": "cannot convert float NaN to integer",
     "output_type": "error",
     "traceback": [
      "\u001b[0;31m---------------------------------------------------------------------------\u001b[0m",
      "\u001b[0;31mValueError\u001b[0m                                Traceback (most recent call last)",
      "\u001b[0;32m<ipython-input-43-a8afbdea6c43>\u001b[0m in \u001b[0;36m<module>\u001b[0;34m()\u001b[0m\n\u001b[1;32m      3\u001b[0m \u001b[0max1\u001b[0m\u001b[0;34m.\u001b[0m\u001b[0mimshow\u001b[0m\u001b[0;34m(\u001b[0m\u001b[0mmarker_image\u001b[0m\u001b[0;34m>\u001b[0m\u001b[0;36m0\u001b[0m\u001b[0;34m,\u001b[0m \u001b[0mcmap\u001b[0m\u001b[0;34m=\u001b[0m\u001b[0;34m'binary'\u001b[0m\u001b[0;34m,\u001b[0m \u001b[0minterpolation\u001b[0m\u001b[0;34m=\u001b[0m\u001b[0;34m'bilinear'\u001b[0m\u001b[0;34m)\u001b[0m\u001b[0;34m;\u001b[0m\u001b[0;34m\u001b[0m\u001b[0m\n\u001b[1;32m      4\u001b[0m \u001b[0;32mfor\u001b[0m \u001b[0mi\u001b[0m \u001b[0;32min\u001b[0m \u001b[0mnp\u001b[0m\u001b[0;34m.\u001b[0m\u001b[0marange\u001b[0m\u001b[0;34m(\u001b[0m\u001b[0mlen\u001b[0m\u001b[0;34m(\u001b[0m\u001b[0mx\u001b[0m\u001b[0;34m)\u001b[0m\u001b[0;34m)\u001b[0m\u001b[0;34m:\u001b[0m\u001b[0;34m\u001b[0m\u001b[0m\n\u001b[0;32m----> 5\u001b[0;31m     \u001b[0max1\u001b[0m\u001b[0;34m.\u001b[0m\u001b[0mannotate\u001b[0m\u001b[0;34m(\u001b[0m\u001b[0mstr\u001b[0m\u001b[0;34m(\u001b[0m\u001b[0mint\u001b[0m\u001b[0;34m(\u001b[0m\u001b[0mcls\u001b[0m\u001b[0;34m[\u001b[0m\u001b[0mi\u001b[0m\u001b[0;34m]\u001b[0m\u001b[0;34m)\u001b[0m\u001b[0;34m)\u001b[0m\u001b[0;34m,\u001b[0m \u001b[0mxy\u001b[0m\u001b[0;34m=\u001b[0m\u001b[0;34m(\u001b[0m\u001b[0mx\u001b[0m\u001b[0;34m[\u001b[0m\u001b[0mi\u001b[0m\u001b[0;34m]\u001b[0m\u001b[0;34m,\u001b[0m \u001b[0my\u001b[0m\u001b[0;34m[\u001b[0m\u001b[0mi\u001b[0m\u001b[0;34m]\u001b[0m\u001b[0;34m)\u001b[0m\u001b[0;34m,\u001b[0m \u001b[0mxytext\u001b[0m\u001b[0;34m=\u001b[0m\u001b[0;34m(\u001b[0m\u001b[0mx\u001b[0m\u001b[0;34m[\u001b[0m\u001b[0mi\u001b[0m\u001b[0;34m]\u001b[0m\u001b[0;34m+\u001b[0m\u001b[0;36m50\u001b[0m\u001b[0;34m,\u001b[0m \u001b[0my\u001b[0m\u001b[0;34m[\u001b[0m\u001b[0mi\u001b[0m\u001b[0;34m]\u001b[0m\u001b[0;34m+\u001b[0m\u001b[0;36m70\u001b[0m\u001b[0;34m)\u001b[0m\u001b[0;34m)\u001b[0m\u001b[0;34m;\u001b[0m \u001b[0;31m# possibile futuro miglioramento sara' visualizzare\u001b[0m\u001b[0;34m\u001b[0m\u001b[0m\n\u001b[0m",
      "\u001b[0;31mValueError\u001b[0m: cannot convert float NaN to integer"
     ]
    },
    {
     "data": {
      "image/png": "[encoded data removed]",
      "text/plain": [
       "<matplotlib.figure.Figure at 0x7f85a0964dd0>"
      ]
     },
     "metadata": {},
     "output_type": "display_data"
    }
   ],
   "source": [
    "fig, ax1 = plt.subplots(figsize=(10,10))\n",
    "# il maggiore di zero serve per fare tutti i pippoli neri, se lo levi diventa scala di grigi\n",
    "ax1.imshow(marker_image>0, cmap='binary', interpolation='bilinear'); \n",
    "for i in np.arange(len(x)):\n",
    "    ax1.annotate(str(int(cls[i])), xy=(x[i], y[i]), xytext=(x[i]+50, y[i]+70)); # possibile futuro miglioramento sara' visualizzare "
   ]
  },
  {
   "cell_type": "code",
   "execution_count": null,
   "metadata": {
    "collapsed": true
   },
   "outputs": [],
   "source": []
  }
 ],
 "metadata": {
  "anaconda-cloud": {},
  "kernelspec": {
   "display_name": "Python [conda env:bubble27]",
   "language": "python",
   "name": "conda-env-bubble27-py"
  },
  "language_info": {
   "codemirror_mode": {
    "name": "ipython",
    "version": 2
   },
   "file_extension": ".py",
   "mimetype": "text/x-python",
   "name": "python",
   "nbconvert_exporter": "python",
   "pygments_lexer": "ipython2",
   "version": "2.7.12"
  },
  "toc": {
   "colors": {
    "hover_highlight": "#DAA520",
    "running_highlight": "#FF0000",
    "selected_highlight": "#FFD700"
   },
   "moveMenuLeft": true,
   "nav_menu": {
    "height": "104px",
    "width": "253px"
   },
   "navigate_menu": true,
   "number_sections": true,
   "sideBar": true,
   "threshold": 4,
   "toc_cell": false,
   "toc_section_display": "block",
   "toc_window_display": true,
   "widenNotebook": false
  }
 },
 "nbformat": 4,
 "nbformat_minor": 1
}
