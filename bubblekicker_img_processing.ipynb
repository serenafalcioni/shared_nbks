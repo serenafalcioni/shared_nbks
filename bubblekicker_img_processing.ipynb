{
 "cells": [
  {
   "cell_type": "code",
   "execution_count": 3,
   "metadata": {
    "ExecuteTime": {
     "end_time": "2017-04-08T11:40:30.988000Z",
     "start_time": "2017-04-08T11:40:28.193000"
    },
    "collapsed": false
   },
   "outputs": [],
   "source": [
    "import matplotlib.pyplot as plt\n",
    "import pandas as pd\n",
    "\n",
    "from bubblekicker.bubblekicker import (BubbleKicker, batchbubblekicker, bubble_properties_calculate, \n",
    "                                       _bubble_properties_filter, bubble_properties_plot)\n",
    "\n",
    "from bubblekicker.pipelines import CannyPipeline, AdaptiveThresholdPipeline"
   ]
  },
  {
   "cell_type": "code",
   "execution_count": 4,
   "metadata": {
    "ExecuteTime": {
     "end_time": "2017-04-08T11:40:30.999000Z",
     "start_time": "2017-04-08T11:40:30.990000"
    },
    "collapsed": true
   },
   "outputs": [],
   "source": [
    "%matplotlib inline"
   ]
  },
  {
   "cell_type": "code",
   "execution_count": 9,
   "metadata": {
    "ExecuteTime": {
     "end_time": "2017-04-08T11:41:36.174000Z",
     "start_time": "2017-04-08T11:41:36.160000"
    },
    "collapsed": false
   },
   "outputs": [],
   "source": [
    "path = r'C:\\Users\\Giacomo\\Documents\\gitRepos\\Serena\\shared_nbks/'\n",
    "imgname = 'classe 5.JPG'"
   ]
  },
  {
   "cell_type": "markdown",
   "metadata": {},
   "source": [
    "# CANNY PIPELINE"
   ]
  },
  {
   "cell_type": "code",
   "execution_count": 20,
   "metadata": {
    "ExecuteTime": {
     "end_time": "2017-04-08T12:02:28.188000Z",
     "start_time": "2017-04-08T12:02:27.749000"
    },
    "collapsed": false
   },
   "outputs": [
    {
     "name": "stdout",
     "output_type": "stream",
     "text": [
      "Steps undertaken since from raw image:\n",
      "edge-detect with thresholds 120 -> 180 - opencv\n",
      "dilate with footprintsize 3 - opencv\n",
      "fill holes - opencv\n",
      "clear border with buffer size 3 and bgval 1 -  skimage\n",
      "erode with footprintsize 1 - opencv\n",
      "\n",
      "\n"
     ]
    },
    {
     "data": {
      "image/png": "[encoded data removed]",
      "text/plain": [
       "<matplotlib.figure.Figure at 0xa2c6150>"
      ]
     },
     "metadata": {},
     "output_type": "display_data"
    }
   ],
   "source": [
    "granulecheck = CannyPipeline(path + imgname, channel='blue')\n",
    "result = granulecheck.run([120, 180], 3, 3, 1, 1)\n",
    "# show the resulting image of the detected bubbles\n",
    "granulecheck.plot()\n",
    "# show the individual steps performed to get this result\n",
    "granulecheck.what_have_i_done()"
   ]
  },
  {
   "cell_type": "markdown",
   "metadata": {},
   "source": [
    "## example filtering with standard values"
   ]
  },
  {
   "cell_type": "code",
   "execution_count": 14,
   "metadata": {
    "ExecuteTime": {
     "end_time": "2017-04-08T12:01:44.694000Z",
     "start_time": "2017-04-08T12:01:44.360000"
    },
    "collapsed": false,
    "scrolled": true
   },
   "outputs": [
    {
     "name": "stdout",
     "output_type": "stream",
     "text": [
      "{'min': 0.92}\n",
      "{'max': 1.6, 'min': 0.2}\n"
     ]
    }
   ],
   "source": [
    "#calculate properties\n",
    "marker_image, props = bubble_properties_calculate(result) "
   ]
  },
  {
   "cell_type": "code",
   "execution_count": 15,
   "metadata": {
    "ExecuteTime": {
     "end_time": "2017-04-08T12:01:47.375000Z",
     "start_time": "2017-04-08T12:01:47.351000"
    },
    "collapsed": false
   },
   "outputs": [
    {
     "data": {
      "text/html": [
       "<div>\n",
       "<table border=\"1\" class=\"dataframe\">\n",
       "  <thead>\n",
       "    <tr style=\"text-align: right;\">\n",
       "      <th></th>\n",
       "      <th>area</th>\n",
       "      <th>centroid</th>\n",
       "      <th>convex_area</th>\n",
       "      <th>equivalent_diameter</th>\n",
       "      <th>perimeter</th>\n",
       "      <th>convexity</th>\n",
       "      <th>circularity_reciprocal</th>\n",
       "    </tr>\n",
       "    <tr>\n",
       "      <th>label</th>\n",
       "      <th></th>\n",
       "      <th></th>\n",
       "      <th></th>\n",
       "      <th></th>\n",
       "      <th></th>\n",
       "      <th></th>\n",
       "      <th></th>\n",
       "    </tr>\n",
       "  </thead>\n",
       "  <tbody>\n",
       "    <tr>\n",
       "      <th>7</th>\n",
       "      <td>8375</td>\n",
       "      <td>(148.13480597, 314.155820896)</td>\n",
       "      <td>8709</td>\n",
       "      <td>103.263649</td>\n",
       "      <td>374.492424</td>\n",
       "      <td>22.363603</td>\n",
       "      <td>1.332574</td>\n",
       "    </tr>\n",
       "    <tr>\n",
       "      <th>8</th>\n",
       "      <td>27</td>\n",
       "      <td>(102.407407407, 101.185185185)</td>\n",
       "      <td>27</td>\n",
       "      <td>5.863230</td>\n",
       "      <td>16.828427</td>\n",
       "      <td>1.604428</td>\n",
       "      <td>0.834667</td>\n",
       "    </tr>\n",
       "    <tr>\n",
       "      <th>10</th>\n",
       "      <td>52</td>\n",
       "      <td>(108.615384615, 701.5)</td>\n",
       "      <td>64</td>\n",
       "      <td>8.136858</td>\n",
       "      <td>31.313708</td>\n",
       "      <td>1.660615</td>\n",
       "      <td>1.500568</td>\n",
       "    </tr>\n",
       "    <tr>\n",
       "      <th>12</th>\n",
       "      <td>34</td>\n",
       "      <td>(157.0, 831.411764706)</td>\n",
       "      <td>37</td>\n",
       "      <td>6.579525</td>\n",
       "      <td>22.485281</td>\n",
       "      <td>1.512100</td>\n",
       "      <td>1.183335</td>\n",
       "    </tr>\n",
       "    <tr>\n",
       "      <th>15</th>\n",
       "      <td>36</td>\n",
       "      <td>(197.416666667, 727.083333333)</td>\n",
       "      <td>39</td>\n",
       "      <td>6.770275</td>\n",
       "      <td>22.485281</td>\n",
       "      <td>1.601047</td>\n",
       "      <td>1.117595</td>\n",
       "    </tr>\n",
       "  </tbody>\n",
       "</table>\n",
       "</div>"
      ],
      "text/plain": [
       "       area                        centroid  convex_area  equivalent_diameter  \\\n",
       "label                                                                           \n",
       "7      8375   (148.13480597, 314.155820896)         8709           103.263649   \n",
       "8        27  (102.407407407, 101.185185185)           27             5.863230   \n",
       "10       52          (108.615384615, 701.5)           64             8.136858   \n",
       "12       34          (157.0, 831.411764706)           37             6.579525   \n",
       "15       36  (197.416666667, 727.083333333)           39             6.770275   \n",
       "\n",
       "        perimeter  convexity  circularity_reciprocal  \n",
       "label                                                 \n",
       "7      374.492424  22.363603                1.332574  \n",
       "8       16.828427   1.604428                0.834667  \n",
       "10      31.313708   1.660615                1.500568  \n",
       "12      22.485281   1.512100                1.183335  \n",
       "15      22.485281   1.601047                1.117595  "
      ]
     },
     "execution_count": 15,
     "metadata": {},
     "output_type": "execute_result"
    }
   ],
   "source": [
    "props.head()"
   ]
  },
  {
   "cell_type": "code",
   "execution_count": 16,
   "metadata": {
    "ExecuteTime": {
     "end_time": "2017-04-08T12:01:53.178000Z",
     "start_time": "2017-04-08T12:01:52.775000"
    },
    "collapsed": false
   },
   "outputs": [
    {
     "data": {
      "text/plain": [
       "<matplotlib.image.AxesImage at 0xa2aca70>"
      ]
     },
     "execution_count": 16,
     "metadata": {},
     "output_type": "execute_result"
    },
    {
     "data": {
      "image/png": "[encoded data removed]",
      "text/plain": [
       "<matplotlib.figure.Figure at 0x9f1dbf0>"
      ]
     },
     "metadata": {},
     "output_type": "display_data"
    }
   ],
   "source": [
    "plt.imshow(marker_image)"
   ]
  },
  {
   "cell_type": "markdown",
   "metadata": {},
   "source": [
    "## example filtering with custom values"
   ]
  },
  {
   "cell_type": "markdown",
   "metadata": {},
   "source": [
    "<b> Changing the 'Circularity reciprocal' max value from 1.2 to 1.5 you can consider more circular particles and also the big ones are falling in"
   ]
  },
  {
   "cell_type": "code",
   "execution_count": 21,
   "metadata": {
    "ExecuteTime": {
     "end_time": "2017-04-08T12:04:06.670000Z",
     "start_time": "2017-04-08T12:04:06.337000"
    },
    "collapsed": false
   },
   "outputs": [
    {
     "name": "stdout",
     "output_type": "stream",
     "text": [
      "{'max': 1.5, 'min': 0.3}\n",
      "{'min': 0.0}\n"
     ]
    }
   ],
   "source": [
    "#calculate properties\n",
    "marker_image, props = bubble_properties_calculate(result, \n",
    "                                                  rules={'convexity':{'min':0.}, \n",
    "                                                                 'circularity_reciprocal':{'max':1.5, 'min':0.3}}) "
   ]
  },
  {
   "cell_type": "code",
   "execution_count": 22,
   "metadata": {
    "ExecuteTime": {
     "end_time": "2017-04-08T12:04:06.739000Z",
     "start_time": "2017-04-08T12:04:06.703000"
    },
    "collapsed": false
   },
   "outputs": [
    {
     "data": {
      "text/html": [
       "<div>\n",
       "<table border=\"1\" class=\"dataframe\">\n",
       "  <thead>\n",
       "    <tr style=\"text-align: right;\">\n",
       "      <th></th>\n",
       "      <th>area</th>\n",
       "      <th>centroid</th>\n",
       "      <th>convex_area</th>\n",
       "      <th>equivalent_diameter</th>\n",
       "      <th>perimeter</th>\n",
       "      <th>convexity</th>\n",
       "      <th>circularity_reciprocal</th>\n",
       "    </tr>\n",
       "    <tr>\n",
       "      <th>label</th>\n",
       "      <th></th>\n",
       "      <th></th>\n",
       "      <th></th>\n",
       "      <th></th>\n",
       "      <th></th>\n",
       "      <th></th>\n",
       "      <th></th>\n",
       "    </tr>\n",
       "  </thead>\n",
       "  <tbody>\n",
       "    <tr>\n",
       "      <th>7</th>\n",
       "      <td>8375</td>\n",
       "      <td>(148.13480597, 314.155820896)</td>\n",
       "      <td>8709</td>\n",
       "      <td>103.263649</td>\n",
       "      <td>374.492424</td>\n",
       "      <td>22.363603</td>\n",
       "      <td>1.332574</td>\n",
       "    </tr>\n",
       "    <tr>\n",
       "      <th>8</th>\n",
       "      <td>27</td>\n",
       "      <td>(102.407407407, 101.185185185)</td>\n",
       "      <td>27</td>\n",
       "      <td>5.863230</td>\n",
       "      <td>16.828427</td>\n",
       "      <td>1.604428</td>\n",
       "      <td>0.834667</td>\n",
       "    </tr>\n",
       "    <tr>\n",
       "      <th>12</th>\n",
       "      <td>34</td>\n",
       "      <td>(157.0, 831.411764706)</td>\n",
       "      <td>37</td>\n",
       "      <td>6.579525</td>\n",
       "      <td>22.485281</td>\n",
       "      <td>1.512100</td>\n",
       "      <td>1.183335</td>\n",
       "    </tr>\n",
       "    <tr>\n",
       "      <th>15</th>\n",
       "      <td>36</td>\n",
       "      <td>(197.416666667, 727.083333333)</td>\n",
       "      <td>39</td>\n",
       "      <td>6.770275</td>\n",
       "      <td>22.485281</td>\n",
       "      <td>1.601047</td>\n",
       "      <td>1.117595</td>\n",
       "    </tr>\n",
       "    <tr>\n",
       "      <th>16</th>\n",
       "      <td>36</td>\n",
       "      <td>(206.083333333, 737.416666667)</td>\n",
       "      <td>38</td>\n",
       "      <td>6.770275</td>\n",
       "      <td>22.485281</td>\n",
       "      <td>1.601047</td>\n",
       "      <td>1.117595</td>\n",
       "    </tr>\n",
       "  </tbody>\n",
       "</table>\n",
       "</div>"
      ],
      "text/plain": [
       "       area                        centroid  convex_area  equivalent_diameter  \\\n",
       "label                                                                           \n",
       "7      8375   (148.13480597, 314.155820896)         8709           103.263649   \n",
       "8        27  (102.407407407, 101.185185185)           27             5.863230   \n",
       "12       34          (157.0, 831.411764706)           37             6.579525   \n",
       "15       36  (197.416666667, 727.083333333)           39             6.770275   \n",
       "16       36  (206.083333333, 737.416666667)           38             6.770275   \n",
       "\n",
       "        perimeter  convexity  circularity_reciprocal  \n",
       "label                                                 \n",
       "7      374.492424  22.363603                1.332574  \n",
       "8       16.828427   1.604428                0.834667  \n",
       "12      22.485281   1.512100                1.183335  \n",
       "15      22.485281   1.601047                1.117595  \n",
       "16      22.485281   1.601047                1.117595  "
      ]
     },
     "execution_count": 22,
     "metadata": {},
     "output_type": "execute_result"
    }
   ],
   "source": [
    "props.head()"
   ]
  },
  {
   "cell_type": "code",
   "execution_count": 23,
   "metadata": {
    "ExecuteTime": {
     "end_time": "2017-04-08T12:04:07.535000Z",
     "start_time": "2017-04-08T12:04:07.151000"
    },
    "collapsed": false
   },
   "outputs": [
    {
     "data": {
      "text/plain": [
       "<matplotlib.image.AxesImage at 0xa34e510>"
      ]
     },
     "execution_count": 23,
     "metadata": {},
     "output_type": "execute_result"
    },
    {
     "data": {
      "image/png": "[encoded data removed]",
      "text/plain": [
       "<matplotlib.figure.Figure at 0x9f26110>"
      ]
     },
     "metadata": {},
     "output_type": "display_data"
    }
   ],
   "source": [
    "plt.imshow(marker_image)"
   ]
  },
  {
   "cell_type": "code",
   "execution_count": 24,
   "metadata": {
    "ExecuteTime": {
     "end_time": "2017-04-08T12:05:54.817000Z",
     "start_time": "2017-04-08T12:05:54.432000"
    },
    "collapsed": false
   },
   "outputs": [
    {
     "data": {
      "image/png": "[encoded data removed]",
      "text/plain": [
       "<matplotlib.figure.Figure at 0xa372810>"
      ]
     },
     "metadata": {},
     "output_type": "display_data"
    }
   ],
   "source": [
    "fig, axs = bubble_properties_plot(props, \"equivalent_diameter\")  # make a plot"
   ]
  },
  {
   "cell_type": "markdown",
   "metadata": {},
   "source": [
    "# ADAPTIVE THRESHOLD PIPELINE"
   ]
  },
  {
   "cell_type": "code",
   "execution_count": 35,
   "metadata": {
    "ExecuteTime": {
     "end_time": "2017-04-08T12:14:37.443000Z",
     "start_time": "2017-04-08T12:14:36.980000"
    },
    "collapsed": false
   },
   "outputs": [
    {
     "name": "stdout",
     "output_type": "stream",
     "text": [
      "Steps undertaken since from raw image:\n",
      "adaptive threshold bubble detection with blocksize 101 and cvalue 15 - opencv\n",
      "clear border with buffer size 3 and bgval 1 -  skimage\n",
      "erode with footprintsize 1 - opencv\n",
      "\n",
      "\n"
     ]
    },
    {
     "data": {
      "image/png": "[encoded data removed]",
      "text/plain": [
       "<matplotlib.figure.Figure at 0xe5d58f0>"
      ]
     },
     "metadata": {},
     "output_type": "display_data"
    }
   ],
   "source": [
    "granulecheck = AdaptiveThresholdPipeline(path + imgname, channel='red')\n",
    "result = granulecheck.run(101, 15, 3, 1, 1)\n",
    "# show the resulting image of the detected granules\n",
    "granulecheck.plot()\n",
    "\n",
    "# show the individual steps performed to get this result\n",
    "granulecheck.what_have_i_done()"
   ]
  },
  {
   "cell_type": "code",
   "execution_count": 22,
   "metadata": {
    "collapsed": false
   },
   "outputs": [
    {
     "name": "stdout",
     "output_type": "stream",
     "text": [
      "{'max': 1.2, 'min': 0.3}\n",
      "{'min': 0.0}\n"
     ]
    }
   ],
   "source": [
    "#calculate properties\n",
    "marker_image, props = bubble_properties_calculate(result, \n",
    "                                                  rules={'convexity':{'min':0.}, \n",
    "                                                                 'circularity_reciprocal':{'max':1.2, 'min':0.3}}) "
   ]
  },
  {
   "cell_type": "code",
   "execution_count": 23,
   "metadata": {
    "collapsed": false
   },
   "outputs": [
    {
     "data": {
      "text/html": [
       "<div>\n",
       "<table border=\"1\" class=\"dataframe\">\n",
       "  <thead>\n",
       "    <tr style=\"text-align: right;\">\n",
       "      <th></th>\n",
       "      <th>area</th>\n",
       "      <th>centroid</th>\n",
       "      <th>convex_area</th>\n",
       "      <th>equivalent_diameter</th>\n",
       "      <th>perimeter</th>\n",
       "      <th>convexity</th>\n",
       "      <th>circularity_reciprocal</th>\n",
       "    </tr>\n",
       "    <tr>\n",
       "      <th>label</th>\n",
       "      <th></th>\n",
       "      <th></th>\n",
       "      <th></th>\n",
       "      <th></th>\n",
       "      <th></th>\n",
       "      <th></th>\n",
       "      <th></th>\n",
       "    </tr>\n",
       "  </thead>\n",
       "  <tbody>\n",
       "    <tr>\n",
       "      <th>7</th>\n",
       "      <td>17</td>\n",
       "      <td>(10.5294117647, 360.176470588)</td>\n",
       "      <td>20</td>\n",
       "      <td>4.652426</td>\n",
       "      <td>13.035534</td>\n",
       "      <td>1.304128</td>\n",
       "      <td>0.795424</td>\n",
       "    </tr>\n",
       "    <tr>\n",
       "      <th>10</th>\n",
       "      <td>17</td>\n",
       "      <td>(14.0, 766.470588235)</td>\n",
       "      <td>24</td>\n",
       "      <td>4.652426</td>\n",
       "      <td>14.828427</td>\n",
       "      <td>1.146447</td>\n",
       "      <td>1.029275</td>\n",
       "    </tr>\n",
       "    <tr>\n",
       "      <th>29</th>\n",
       "      <td>33</td>\n",
       "      <td>(40.303030303, 488.606060606)</td>\n",
       "      <td>37</td>\n",
       "      <td>6.482045</td>\n",
       "      <td>21.656854</td>\n",
       "      <td>1.523767</td>\n",
       "      <td>1.131011</td>\n",
       "    </tr>\n",
       "    <tr>\n",
       "      <th>40</th>\n",
       "      <td>15</td>\n",
       "      <td>(63.0, 747.133333333)</td>\n",
       "      <td>17</td>\n",
       "      <td>4.370194</td>\n",
       "      <td>12.863961</td>\n",
       "      <td>1.166048</td>\n",
       "      <td>0.877907</td>\n",
       "    </tr>\n",
       "    <tr>\n",
       "      <th>55</th>\n",
       "      <td>12</td>\n",
       "      <td>(91.8333333333, 457.75)</td>\n",
       "      <td>14</td>\n",
       "      <td>3.908820</td>\n",
       "      <td>12.071068</td>\n",
       "      <td>0.994113</td>\n",
       "      <td>0.966274</td>\n",
       "    </tr>\n",
       "  </tbody>\n",
       "</table>\n",
       "</div>"
      ],
      "text/plain": [
       "       area                        centroid  convex_area  equivalent_diameter  \\\n",
       "label                                                                           \n",
       "7        17  (10.5294117647, 360.176470588)           20             4.652426   \n",
       "10       17           (14.0, 766.470588235)           24             4.652426   \n",
       "29       33   (40.303030303, 488.606060606)           37             6.482045   \n",
       "40       15           (63.0, 747.133333333)           17             4.370194   \n",
       "55       12         (91.8333333333, 457.75)           14             3.908820   \n",
       "\n",
       "       perimeter  convexity  circularity_reciprocal  \n",
       "label                                                \n",
       "7      13.035534   1.304128                0.795424  \n",
       "10     14.828427   1.146447                1.029275  \n",
       "29     21.656854   1.523767                1.131011  \n",
       "40     12.863961   1.166048                0.877907  \n",
       "55     12.071068   0.994113                0.966274  "
      ]
     },
     "execution_count": 23,
     "metadata": {},
     "output_type": "execute_result"
    }
   ],
   "source": [
    "props.head()"
   ]
  },
  {
   "cell_type": "code",
   "execution_count": 24,
   "metadata": {
    "collapsed": false
   },
   "outputs": [
    {
     "data": {
      "text/plain": [
       "<matplotlib.image.AxesImage at 0x10a22890>"
      ]
     },
     "execution_count": 24,
     "metadata": {},
     "output_type": "execute_result"
    },
    {
     "data": {
      "image/png": "[encoded data removed]",
      "text/plain": [
       "<matplotlib.figure.Figure at 0x1065d0f0>"
      ]
     },
     "metadata": {},
     "output_type": "display_data"
    }
   ],
   "source": [
    "plt.imshow(marker_image)"
   ]
  },
  {
   "cell_type": "code",
   "execution_count": null,
   "metadata": {
    "collapsed": true
   },
   "outputs": [],
   "source": []
  }
 ],
 "metadata": {
  "anaconda-cloud": {},
  "kernelspec": {
   "display_name": "Python [default]",
   "language": "python",
   "name": "python2"
  },
  "language_info": {
   "codemirror_mode": {
    "name": "ipython",
    "version": 2
   },
   "file_extension": ".py",
   "mimetype": "text/x-python",
   "name": "python",
   "nbconvert_exporter": "python",
   "pygments_lexer": "ipython2",
   "version": "2.7.11"
  },
  "toc": {
   "colors": {
    "hover_highlight": "#DAA520",
    "running_highlight": "#FF0000",
    "selected_highlight": "#FFD700"
   },
   "moveMenuLeft": true,
   "nav_menu": {
    "height": "104px",
    "width": "253px"
   },
   "navigate_menu": true,
   "number_sections": true,
   "sideBar": true,
   "threshold": 4,
   "toc_cell": false,
   "toc_section_display": "block",
   "toc_window_display": false,
   "widenNotebook": false
  }
 },
 "nbformat": 4,
 "nbformat_minor": 1
}
