{
 "cells": [
  {
   "cell_type": "code",
   "execution_count": 3,
   "metadata": {
    "ExecuteTime": {
     "end_time": "2017-04-08T11:40:30.988000Z",
     "start_time": "2017-04-08T11:40:28.193000"
    },
    "collapsed": false
   },
   "outputs": [],
   "source": [
    "import matplotlib.pyplot as plt\n",
    "import pandas as pd\n",
    "\n",
    "from bubblekicker.bubblekicker import (BubbleKicker, batchbubblekicker, bubble_properties_calculate, \n",
    "                                       _bubble_properties_filter, bubble_properties_plot)\n",
    "\n",
    "from bubblekicker.pipelines import CannyPipeline, AdaptiveThresholdPipeline"
   ]
  },
  {
   "cell_type": "code",
   "execution_count": 4,
   "metadata": {
    "ExecuteTime": {
     "end_time": "2017-04-08T11:40:30.999000Z",
     "start_time": "2017-04-08T11:40:30.990000"
    },
    "collapsed": true
   },
   "outputs": [],
   "source": [
    "%matplotlib inline"
   ]
  },
  {
   "cell_type": "code",
   "execution_count": 9,
   "metadata": {
    "ExecuteTime": {
     "end_time": "2017-04-08T11:41:36.174000Z",
     "start_time": "2017-04-08T11:41:36.160000"
    },
    "collapsed": false
   },
   "outputs": [],
   "source": [
    "path = r'C:\\Users\\Giacomo\\Documents\\gitRepos\\Serena\\shared_nbks/'\n",
    "imgname = 'classe 5.JPG'"
   ]
  },
  {
   "cell_type": "code",
   "execution_count": 10,
   "metadata": {
    "ExecuteTime": {
     "end_time": "2017-04-08T11:41:37.481000Z",
     "start_time": "2017-04-08T11:41:37.464000"
    },
    "collapsed": false
   },
   "outputs": [
    {
     "data": {
      "text/plain": [
       "'C:\\\\Users\\\\Giacomo\\\\Documents\\\\gitRepos\\\\Serena\\\\shared_nbks/classe 5.JPG'"
      ]
     },
     "execution_count": 10,
     "metadata": {},
     "output_type": "execute_result"
    }
   ],
   "source": [
    "path + imgname"
   ]
  },
  {
   "cell_type": "code",
   "execution_count": 12,
   "metadata": {
    "ExecuteTime": {
     "end_time": "2017-04-08T11:41:55.791000Z",
     "start_time": "2017-04-08T11:41:55.369000"
    },
    "collapsed": false
   },
   "outputs": [
    {
     "name": "stdout",
     "output_type": "stream",
     "text": [
      "Steps undertaken since from raw image:\n",
      "edge-detect with thresholds 120 -> 180 - opencv\n",
      "dilate with footprintsize 3 - opencv\n",
      "fill holes - opencv\n",
      "clear border with buffer size 3 and bgval 1 -  skimage\n",
      "erode with footprintsize 1 - opencv\n",
      "\n",
      "\n"
     ]
    },
    {
     "data": {
      "image/png": "[encoded data removed]",
      "text/plain": [
       "<matplotlib.figure.Figure at 0x9ecbc70>"
      ]
     },
     "metadata": {},
     "output_type": "display_data"
    }
   ],
   "source": [
    "# CANNY PIPELINE\n",
    "bubbler = CannyPipeline(path + imgname, channel='blue')\n",
    "result = bubbler.run([120, 180], 3, 3, 1, 1)\n",
    "# show the resulting image of the detected bubbles\n",
    "bubbler.plot()\n",
    "# show the individual steps performed to get this result\n",
    "bubbler.what_have_i_done()"
   ]
  },
  {
   "cell_type": "markdown",
   "metadata": {},
   "source": [
    "### example filtering with standard values"
   ]
  },
  {
   "cell_type": "code",
   "execution_count": 14,
   "metadata": {
    "collapsed": false,
    "scrolled": true
   },
   "outputs": [
    {
     "name": "stdout",
     "output_type": "stream",
     "text": [
      "{'min': 0.92}\n",
      "{'max': 1.6, 'min': 0.2}\n"
     ]
    }
   ],
   "source": [
    "#calculate properties\n",
    "marker_image, props = bubble_properties_calculate(result) "
   ]
  },
  {
   "cell_type": "code",
   "execution_count": 15,
   "metadata": {
    "collapsed": false
   },
   "outputs": [
    {
     "data": {
      "text/html": [
       "<div>\n",
       "<table border=\"1\" class=\"dataframe\">\n",
       "  <thead>\n",
       "    <tr style=\"text-align: right;\">\n",
       "      <th></th>\n",
       "      <th>area</th>\n",
       "      <th>centroid</th>\n",
       "      <th>convex_area</th>\n",
       "      <th>equivalent_diameter</th>\n",
       "      <th>perimeter</th>\n",
       "      <th>convexity</th>\n",
       "      <th>circularity_reciprocal</th>\n",
       "    </tr>\n",
       "    <tr>\n",
       "      <th>label</th>\n",
       "      <th></th>\n",
       "      <th></th>\n",
       "      <th></th>\n",
       "      <th></th>\n",
       "      <th></th>\n",
       "      <th></th>\n",
       "      <th></th>\n",
       "    </tr>\n",
       "  </thead>\n",
       "  <tbody>\n",
       "    <tr>\n",
       "      <th>1</th>\n",
       "      <td>59</td>\n",
       "      <td>(200.101694915, 646.406779661)</td>\n",
       "      <td>62</td>\n",
       "      <td>8.667245</td>\n",
       "      <td>27.313708</td>\n",
       "      <td>2.160087</td>\n",
       "      <td>1.006235</td>\n",
       "    </tr>\n",
       "    <tr>\n",
       "      <th>2</th>\n",
       "      <td>156</td>\n",
       "      <td>(202.724358974, 726.679487179)</td>\n",
       "      <td>164</td>\n",
       "      <td>14.093451</td>\n",
       "      <td>55.142136</td>\n",
       "      <td>2.829053</td>\n",
       "      <td>1.551075</td>\n",
       "    </tr>\n",
       "    <tr>\n",
       "      <th>3</th>\n",
       "      <td>133</td>\n",
       "      <td>(205.037593985, 409.571428571)</td>\n",
       "      <td>144</td>\n",
       "      <td>13.013103</td>\n",
       "      <td>46.727922</td>\n",
       "      <td>2.846264</td>\n",
       "      <td>1.306446</td>\n",
       "    </tr>\n",
       "    <tr>\n",
       "      <th>4</th>\n",
       "      <td>62</td>\n",
       "      <td>(221.161290323, 586.709677419)</td>\n",
       "      <td>73</td>\n",
       "      <td>8.884866</td>\n",
       "      <td>32.106602</td>\n",
       "      <td>1.931067</td>\n",
       "      <td>1.323083</td>\n",
       "    </tr>\n",
       "    <tr>\n",
       "      <th>5</th>\n",
       "      <td>74</td>\n",
       "      <td>(222.72972973, 380.216216216)</td>\n",
       "      <td>83</td>\n",
       "      <td>9.706685</td>\n",
       "      <td>38.142136</td>\n",
       "      <td>1.940112</td>\n",
       "      <td>1.564474</td>\n",
       "    </tr>\n",
       "  </tbody>\n",
       "</table>\n",
       "</div>"
      ],
      "text/plain": [
       "       area                        centroid  convex_area  equivalent_diameter  \\\n",
       "label                                                                           \n",
       "1        59  (200.101694915, 646.406779661)           62             8.667245   \n",
       "2       156  (202.724358974, 726.679487179)          164            14.093451   \n",
       "3       133  (205.037593985, 409.571428571)          144            13.013103   \n",
       "4        62  (221.161290323, 586.709677419)           73             8.884866   \n",
       "5        74   (222.72972973, 380.216216216)           83             9.706685   \n",
       "\n",
       "       perimeter  convexity  circularity_reciprocal  \n",
       "label                                                \n",
       "1      27.313708   2.160087                1.006235  \n",
       "2      55.142136   2.829053                1.551075  \n",
       "3      46.727922   2.846264                1.306446  \n",
       "4      32.106602   1.931067                1.323083  \n",
       "5      38.142136   1.940112                1.564474  "
      ]
     },
     "execution_count": 15,
     "metadata": {},
     "output_type": "execute_result"
    }
   ],
   "source": [
    "props.head()"
   ]
  },
  {
   "cell_type": "code",
   "execution_count": 16,
   "metadata": {
    "collapsed": false
   },
   "outputs": [
    {
     "data": {
      "text/plain": [
       "<matplotlib.image.AxesImage at 0xa2a84f0>"
      ]
     },
     "execution_count": 16,
     "metadata": {},
     "output_type": "execute_result"
    },
    {
     "data": {
      "image/png": "[encoded data removed]",
      "text/plain": [
       "<matplotlib.figure.Figure at 0xa43c670>"
      ]
     },
     "metadata": {},
     "output_type": "display_data"
    }
   ],
   "source": [
    "plt.imshow(marker_image)"
   ]
  },
  {
   "cell_type": "markdown",
   "metadata": {},
   "source": [
    "### example filtering with custom values"
   ]
  },
  {
   "cell_type": "code",
   "execution_count": 17,
   "metadata": {
    "collapsed": false
   },
   "outputs": [
    {
     "name": "stdout",
     "output_type": "stream",
     "text": [
      "{'max': 1.2, 'min': 0.3}\n",
      "{'min': 0.0}\n"
     ]
    }
   ],
   "source": [
    "#calculate properties\n",
    "marker_image, props = bubble_properties_calculate(result, \n",
    "                                                  rules={'convexity':{'min':0.}, \n",
    "                                                                 'circularity_reciprocal':{'max':1.2, 'min':0.3}}) "
   ]
  },
  {
   "cell_type": "code",
   "execution_count": 18,
   "metadata": {
    "collapsed": false
   },
   "outputs": [
    {
     "data": {
      "text/html": [
       "<div>\n",
       "<table border=\"1\" class=\"dataframe\">\n",
       "  <thead>\n",
       "    <tr style=\"text-align: right;\">\n",
       "      <th></th>\n",
       "      <th>area</th>\n",
       "      <th>centroid</th>\n",
       "      <th>convex_area</th>\n",
       "      <th>equivalent_diameter</th>\n",
       "      <th>perimeter</th>\n",
       "      <th>convexity</th>\n",
       "      <th>circularity_reciprocal</th>\n",
       "    </tr>\n",
       "    <tr>\n",
       "      <th>label</th>\n",
       "      <th></th>\n",
       "      <th></th>\n",
       "      <th></th>\n",
       "      <th></th>\n",
       "      <th></th>\n",
       "      <th></th>\n",
       "      <th></th>\n",
       "    </tr>\n",
       "  </thead>\n",
       "  <tbody>\n",
       "    <tr>\n",
       "      <th>1</th>\n",
       "      <td>59</td>\n",
       "      <td>(200.101694915, 646.406779661)</td>\n",
       "      <td>62</td>\n",
       "      <td>8.667245</td>\n",
       "      <td>27.313708</td>\n",
       "      <td>2.160087</td>\n",
       "      <td>1.006235</td>\n",
       "    </tr>\n",
       "    <tr>\n",
       "      <th>8</th>\n",
       "      <td>86</td>\n",
       "      <td>(249.372093023, 314.546511628)</td>\n",
       "      <td>91</td>\n",
       "      <td>10.464158</td>\n",
       "      <td>33.313708</td>\n",
       "      <td>2.581520</td>\n",
       "      <td>1.026922</td>\n",
       "    </tr>\n",
       "    <tr>\n",
       "      <th>11</th>\n",
       "      <td>91</td>\n",
       "      <td>(272.692307692, 275.076923077)</td>\n",
       "      <td>100</td>\n",
       "      <td>10.764051</td>\n",
       "      <td>35.556349</td>\n",
       "      <td>2.559318</td>\n",
       "      <td>1.105562</td>\n",
       "    </tr>\n",
       "    <tr>\n",
       "      <th>16</th>\n",
       "      <td>58</td>\n",
       "      <td>(350.24137931, 281.155172414)</td>\n",
       "      <td>63</td>\n",
       "      <td>8.593480</td>\n",
       "      <td>27.899495</td>\n",
       "      <td>2.078891</td>\n",
       "      <td>1.067960</td>\n",
       "    </tr>\n",
       "  </tbody>\n",
       "</table>\n",
       "</div>"
      ],
      "text/plain": [
       "       area                        centroid  convex_area  equivalent_diameter  \\\n",
       "label                                                                           \n",
       "1        59  (200.101694915, 646.406779661)           62             8.667245   \n",
       "8        86  (249.372093023, 314.546511628)           91            10.464158   \n",
       "11       91  (272.692307692, 275.076923077)          100            10.764051   \n",
       "16       58   (350.24137931, 281.155172414)           63             8.593480   \n",
       "\n",
       "       perimeter  convexity  circularity_reciprocal  \n",
       "label                                                \n",
       "1      27.313708   2.160087                1.006235  \n",
       "8      33.313708   2.581520                1.026922  \n",
       "11     35.556349   2.559318                1.105562  \n",
       "16     27.899495   2.078891                1.067960  "
      ]
     },
     "execution_count": 18,
     "metadata": {},
     "output_type": "execute_result"
    }
   ],
   "source": [
    "props.head()"
   ]
  },
  {
   "cell_type": "code",
   "execution_count": 19,
   "metadata": {
    "collapsed": false
   },
   "outputs": [
    {
     "data": {
      "text/plain": [
       "<matplotlib.image.AxesImage at 0xa77d290>"
      ]
     },
     "execution_count": 19,
     "metadata": {},
     "output_type": "execute_result"
    },
    {
     "data": {
      "image/png": "[encoded data removed]",
      "text/plain": [
       "<matplotlib.figure.Figure at 0xa10c890>"
      ]
     },
     "metadata": {},
     "output_type": "display_data"
    }
   ],
   "source": [
    "plt.imshow(marker_image)"
   ]
  },
  {
   "cell_type": "code",
   "execution_count": 20,
   "metadata": {
    "collapsed": false
   },
   "outputs": [
    {
     "data": {
      "image/png": "[encoded data removed]",
      "text/plain": [
       "<matplotlib.figure.Figure at 0xa788270>"
      ]
     },
     "metadata": {},
     "output_type": "display_data"
    }
   ],
   "source": [
    "fig, axs = bubble_properties_plot(props, \"equivalent_diameter\")  # make a plot"
   ]
  },
  {
   "cell_type": "code",
   "execution_count": 21,
   "metadata": {
    "collapsed": false
   },
   "outputs": [
    {
     "name": "stdout",
     "output_type": "stream",
     "text": [
      "Steps undertaken since from raw image:\n",
      "adaptive threshold bubble detection with blocksize 91 and cvalue 18 - opencv\n",
      "clear border with buffer size 3 and bgval 1 -  skimage\n",
      "erode with footprintsize 1 - opencv\n",
      "\n",
      "\n"
     ]
    },
    {
     "data": {
      "image/png": "[encoded data removed]",
      "text/plain": [
       "<matplotlib.figure.Figure at 0xa417b10>"
      ]
     },
     "metadata": {},
     "output_type": "display_data"
    }
   ],
   "source": [
    "# ADAPTIVE THRESHOLD PIPELINE\n",
    "bubbler = AdaptiveThresholdPipeline(path + imgname, channel='red')\n",
    "result = bubbler.run(91, 18, 3, 1, 1)\n",
    "# show the resulting image of the detected bubbles\n",
    "bubbler.plot()\n",
    "\n",
    "# show the individual steps performed to get this result\n",
    "bubbler.what_have_i_done()"
   ]
  },
  {
   "cell_type": "code",
   "execution_count": 22,
   "metadata": {
    "collapsed": false
   },
   "outputs": [
    {
     "name": "stdout",
     "output_type": "stream",
     "text": [
      "{'max': 1.2, 'min': 0.3}\n",
      "{'min': 0.0}\n"
     ]
    }
   ],
   "source": [
    "#calculate properties\n",
    "marker_image, props = bubble_properties_calculate(result, \n",
    "                                                  rules={'convexity':{'min':0.}, \n",
    "                                                                 'circularity_reciprocal':{'max':1.2, 'min':0.3}}) "
   ]
  },
  {
   "cell_type": "code",
   "execution_count": 23,
   "metadata": {
    "collapsed": false
   },
   "outputs": [
    {
     "data": {
      "text/html": [
       "<div>\n",
       "<table border=\"1\" class=\"dataframe\">\n",
       "  <thead>\n",
       "    <tr style=\"text-align: right;\">\n",
       "      <th></th>\n",
       "      <th>area</th>\n",
       "      <th>centroid</th>\n",
       "      <th>convex_area</th>\n",
       "      <th>equivalent_diameter</th>\n",
       "      <th>perimeter</th>\n",
       "      <th>convexity</th>\n",
       "      <th>circularity_reciprocal</th>\n",
       "    </tr>\n",
       "    <tr>\n",
       "      <th>label</th>\n",
       "      <th></th>\n",
       "      <th></th>\n",
       "      <th></th>\n",
       "      <th></th>\n",
       "      <th></th>\n",
       "      <th></th>\n",
       "      <th></th>\n",
       "    </tr>\n",
       "  </thead>\n",
       "  <tbody>\n",
       "    <tr>\n",
       "      <th>7</th>\n",
       "      <td>17</td>\n",
       "      <td>(10.5294117647, 360.176470588)</td>\n",
       "      <td>20</td>\n",
       "      <td>4.652426</td>\n",
       "      <td>13.035534</td>\n",
       "      <td>1.304128</td>\n",
       "      <td>0.795424</td>\n",
       "    </tr>\n",
       "    <tr>\n",
       "      <th>10</th>\n",
       "      <td>17</td>\n",
       "      <td>(14.0, 766.470588235)</td>\n",
       "      <td>24</td>\n",
       "      <td>4.652426</td>\n",
       "      <td>14.828427</td>\n",
       "      <td>1.146447</td>\n",
       "      <td>1.029275</td>\n",
       "    </tr>\n",
       "    <tr>\n",
       "      <th>29</th>\n",
       "      <td>33</td>\n",
       "      <td>(40.303030303, 488.606060606)</td>\n",
       "      <td>37</td>\n",
       "      <td>6.482045</td>\n",
       "      <td>21.656854</td>\n",
       "      <td>1.523767</td>\n",
       "      <td>1.131011</td>\n",
       "    </tr>\n",
       "    <tr>\n",
       "      <th>40</th>\n",
       "      <td>15</td>\n",
       "      <td>(63.0, 747.133333333)</td>\n",
       "      <td>17</td>\n",
       "      <td>4.370194</td>\n",
       "      <td>12.863961</td>\n",
       "      <td>1.166048</td>\n",
       "      <td>0.877907</td>\n",
       "    </tr>\n",
       "    <tr>\n",
       "      <th>55</th>\n",
       "      <td>12</td>\n",
       "      <td>(91.8333333333, 457.75)</td>\n",
       "      <td>14</td>\n",
       "      <td>3.908820</td>\n",
       "      <td>12.071068</td>\n",
       "      <td>0.994113</td>\n",
       "      <td>0.966274</td>\n",
       "    </tr>\n",
       "  </tbody>\n",
       "</table>\n",
       "</div>"
      ],
      "text/plain": [
       "       area                        centroid  convex_area  equivalent_diameter  \\\n",
       "label                                                                           \n",
       "7        17  (10.5294117647, 360.176470588)           20             4.652426   \n",
       "10       17           (14.0, 766.470588235)           24             4.652426   \n",
       "29       33   (40.303030303, 488.606060606)           37             6.482045   \n",
       "40       15           (63.0, 747.133333333)           17             4.370194   \n",
       "55       12         (91.8333333333, 457.75)           14             3.908820   \n",
       "\n",
       "       perimeter  convexity  circularity_reciprocal  \n",
       "label                                                \n",
       "7      13.035534   1.304128                0.795424  \n",
       "10     14.828427   1.146447                1.029275  \n",
       "29     21.656854   1.523767                1.131011  \n",
       "40     12.863961   1.166048                0.877907  \n",
       "55     12.071068   0.994113                0.966274  "
      ]
     },
     "execution_count": 23,
     "metadata": {},
     "output_type": "execute_result"
    }
   ],
   "source": [
    "props.head()"
   ]
  },
  {
   "cell_type": "code",
   "execution_count": 24,
   "metadata": {
    "collapsed": false
   },
   "outputs": [
    {
     "data": {
      "text/plain": [
       "<matplotlib.image.AxesImage at 0x10a22890>"
      ]
     },
     "execution_count": 24,
     "metadata": {},
     "output_type": "execute_result"
    },
    {
     "data": {
      "image/png": "[encoded data removed]",
      "text/plain": [
       "<matplotlib.figure.Figure at 0x1065d0f0>"
      ]
     },
     "metadata": {},
     "output_type": "display_data"
    }
   ],
   "source": [
    "plt.imshow(marker_image)"
   ]
  },
  {
   "cell_type": "code",
   "execution_count": null,
   "metadata": {
    "collapsed": true
   },
   "outputs": [],
   "source": []
  }
 ],
 "metadata": {
  "anaconda-cloud": {},
  "kernelspec": {
   "display_name": "Python [default]",
   "language": "python",
   "name": "python2"
  },
  "language_info": {
   "codemirror_mode": {
    "name": "ipython",
    "version": 2
   },
   "file_extension": ".py",
   "mimetype": "text/x-python",
   "name": "python",
   "nbconvert_exporter": "python",
   "pygments_lexer": "ipython2",
   "version": "2.7.11"
  },
  "toc": {
   "colors": {
    "hover_highlight": "#DAA520",
    "running_highlight": "#FF0000",
    "selected_highlight": "#FFD700"
   },
   "moveMenuLeft": true,
   "nav_menu": {
    "height": "48px",
    "width": "253px"
   },
   "navigate_menu": true,
   "number_sections": true,
   "sideBar": true,
   "threshold": 4,
   "toc_cell": false,
   "toc_section_display": "block",
   "toc_window_display": false,
   "widenNotebook": false
  }
 },
 "nbformat": 4,
 "nbformat_minor": 1
}
